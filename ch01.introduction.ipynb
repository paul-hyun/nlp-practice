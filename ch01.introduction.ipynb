{
 "cells": [
  {
   "cell_type": "markdown",
   "id": "df671168-b0aa-4ab5-82b4-898cb02eda44",
   "metadata": {
    "id": "df671168-b0aa-4ab5-82b4-898cb02eda44",
    "jp-MarkdownHeadingCollapsed": true
   },
   "source": [
    "# 1.0 Env"
   ]
  },
  {
   "cell_type": "code",
   "execution_count": null,
   "id": "43609575-70d7-436f-9bca-fc0df29f72d7",
   "metadata": {
    "id": "43609575-70d7-436f-9bca-fc0df29f72d7"
   },
   "outputs": [],
   "source": [
    "import os\n",
    "import re\n",
    "import json\n",
    "import numpy as np\n",
    "\n",
    "import torch\n",
    "import torch.nn.functional as F"
   ]
  },
  {
   "cell_type": "code",
   "execution_count": null,
   "id": "984e2c77-ff86-492a-9b2f-f4459cd3210c",
   "metadata": {
    "id": "984e2c77-ff86-492a-9b2f-f4459cd3210c"
   },
   "outputs": [],
   "source": [
    "# Gradient False\n",
    "torch.set_grad_enabled(True)\n",
    "# work dir\n",
    "work_dir = '/home/ubuntu/nlp-practice'"
   ]
  },
  {
   "cell_type": "code",
   "execution_count": null,
   "id": "abF_3VU6jw_z",
   "metadata": {
    "id": "abF_3VU6jw_z"
   },
   "outputs": [],
   "source": [
    "%cd {work_dir}\n",
    "!pwd"
   ]
  },
  {
   "cell_type": "markdown",
   "id": "59fdfee4-909e-4a34-8c7b-092a070ddd2d",
   "metadata": {
    "id": "59fdfee4-909e-4a34-8c7b-092a070ddd2d",
    "jp-MarkdownHeadingCollapsed": true
   },
   "source": [
    "# 1.2 DL Quick Review"
   ]
  },
  {
   "cell_type": "markdown",
   "id": "df31a078-a7ce-49f4-aa7f-f183b892930a",
   "metadata": {
    "id": "df31a078-a7ce-49f4-aa7f-f183b892930a",
    "jp-MarkdownHeadingCollapsed": true
   },
   "source": [
    "## What is Tensor?"
   ]
  },
  {
   "cell_type": "code",
   "execution_count": null,
   "id": "c1b33cf5-9c5c-48e9-8321-683ef2dee5a0",
   "metadata": {
    "id": "c1b33cf5-9c5c-48e9-8321-683ef2dee5a0"
   },
   "outputs": [],
   "source": [
    "# vector\n",
    "torch.rand(3)"
   ]
  },
  {
   "cell_type": "code",
   "execution_count": null,
   "id": "99923149-e099-4cf3-baa4-13e4e2ccea72",
   "metadata": {
    "id": "99923149-e099-4cf3-baa4-13e4e2ccea72"
   },
   "outputs": [],
   "source": [
    "# matrix\n",
    "torch.rand(2, 3)"
   ]
  },
  {
   "cell_type": "code",
   "execution_count": null,
   "id": "36127a1f-5d88-438b-8f1c-ed95664163d4",
   "metadata": {
    "id": "36127a1f-5d88-438b-8f1c-ed95664163d4"
   },
   "outputs": [],
   "source": [
    "# 3D tensor\n",
    "torch.rand(3, 2, 3)"
   ]
  },
  {
   "cell_type": "code",
   "execution_count": null,
   "id": "35245571-8f85-40d9-8aea-ab16b777748b",
   "metadata": {
    "id": "35245571-8f85-40d9-8aea-ab16b777748b"
   },
   "outputs": [],
   "source": [
    "# 4D tensor\n",
    "torch.rand(3, 3, 2, 3)"
   ]
  },
  {
   "cell_type": "code",
   "execution_count": null,
   "id": "083ad417-7f48-4ba0-a1de-0478eaf19414",
   "metadata": {
    "id": "083ad417-7f48-4ba0-a1de-0478eaf19414"
   },
   "outputs": [],
   "source": [
    "# 5D tensor\n",
    "torch.rand(3, 3, 3, 2, 3)"
   ]
  },
  {
   "cell_type": "code",
   "execution_count": null,
   "id": "9edbc49c-78a8-40f8-a0ca-36e195d99028",
   "metadata": {
    "id": "9edbc49c-78a8-40f8-a0ca-36e195d99028"
   },
   "outputs": [],
   "source": [
    "# 6D tensor\n",
    "torch.rand(3, 3, 3, 3, 2, 3)"
   ]
  },
  {
   "cell_type": "code",
   "execution_count": null,
   "id": "ce33fa2a-8108-4379-8882-d80934626b99",
   "metadata": {
    "id": "ce33fa2a-8108-4379-8882-d80934626b99"
   },
   "outputs": [],
   "source": [
    "# 3D tensor\n",
    "torch.rand(3, 2, 3).shape"
   ]
  },
  {
   "cell_type": "code",
   "execution_count": null,
   "id": "c708411f-0244-4bfa-ab8a-dd363c9033be",
   "metadata": {
    "id": "c708411f-0244-4bfa-ab8a-dd363c9033be"
   },
   "outputs": [],
   "source": [
    "# 2D matrix\n",
    "torch.rand(2, 3).shape"
   ]
  },
  {
   "cell_type": "code",
   "execution_count": null,
   "id": "e99a2c37-f427-4f8e-b511-a3e17c31b7af",
   "metadata": {
    "id": "e99a2c37-f427-4f8e-b511-a3e17c31b7af"
   },
   "outputs": [],
   "source": [
    "# Tabular Dataset\n",
    "torch.rand(2, 3)[0].shape"
   ]
  },
  {
   "cell_type": "code",
   "execution_count": null,
   "id": "55dbcfc8-3ea9-45dc-826a-ad3978cc7450",
   "metadata": {
    "id": "55dbcfc8-3ea9-45dc-826a-ad3978cc7450"
   },
   "outputs": [],
   "source": [
    "# Mini-batch\n",
    "torch.rand(10, 3)[:2].shape"
   ]
  },
  {
   "cell_type": "markdown",
   "id": "ea2193b0-3899-444c-960f-ef229bed1c8c",
   "metadata": {
    "id": "ea2193b0-3899-444c-960f-ef229bed1c8c",
    "jp-MarkdownHeadingCollapsed": true
   },
   "source": [
    "## 손실 함수와 신경망 학습"
   ]
  },
  {
   "cell_type": "code",
   "execution_count": null,
   "id": "f4ae55a7-1275-481c-ace2-084438e7ad79",
   "metadata": {
    "id": "f4ae55a7-1275-481c-ace2-084438e7ad79"
   },
   "outputs": [],
   "source": [
    "y_true = torch.rand(10)\n",
    "y_true"
   ]
  },
  {
   "cell_type": "code",
   "execution_count": null,
   "id": "bb08b631-2407-4d3e-abf4-3a3cef597e44",
   "metadata": {
    "id": "bb08b631-2407-4d3e-abf4-3a3cef597e44"
   },
   "outputs": [],
   "source": [
    "y_pred = torch.rand(10)\n",
    "y_pred"
   ]
  },
  {
   "cell_type": "code",
   "execution_count": null,
   "id": "864c4605-9337-436f-8291-a5e639bd9ef0",
   "metadata": {
    "id": "864c4605-9337-436f-8291-a5e639bd9ef0"
   },
   "outputs": [],
   "source": [
    "# L2 Distance\n",
    "(y_true - y_pred).pow(2).sum().sqrt()"
   ]
  },
  {
   "cell_type": "code",
   "execution_count": null,
   "id": "e2cfc999-75b5-41f9-b152-69a592b871de",
   "metadata": {
    "id": "e2cfc999-75b5-41f9-b152-69a592b871de"
   },
   "outputs": [],
   "source": [
    "# L2 norm\n",
    "(y_true - y_pred).norm()"
   ]
  },
  {
   "cell_type": "code",
   "execution_count": null,
   "id": "062cbb72-2a61-4226-b92e-61782ac39fe3",
   "metadata": {
    "id": "062cbb72-2a61-4226-b92e-61782ac39fe3"
   },
   "outputs": [],
   "source": [
    "# RMSE\n",
    "F.mse_loss(y_true, y_pred).sqrt()"
   ]
  },
  {
   "cell_type": "code",
   "execution_count": null,
   "id": "f04af250-32d4-4cc6-bd61-67f4a4892612",
   "metadata": {
    "id": "f04af250-32d4-4cc6-bd61-67f4a4892612"
   },
   "outputs": [],
   "source": [
    "# MSE\n",
    "F.mse_loss(y_true, y_pred)"
   ]
  },
  {
   "cell_type": "code",
   "execution_count": null,
   "id": "d0815b87-52a2-4d57-9de1-dc2c28f75bcd",
   "metadata": {
    "id": "d0815b87-52a2-4d57-9de1-dc2c28f75bcd"
   },
   "outputs": [],
   "source": [
    "# MSE\n",
    "(y_true - y_pred).pow(2).mean()"
   ]
  },
  {
   "cell_type": "markdown",
   "id": "f6cde4d7-ccc5-4af2-b90f-f84c2433470e",
   "metadata": {
    "id": "f6cde4d7-ccc5-4af2-b90f-f84c2433470e",
    "jp-MarkdownHeadingCollapsed": true
   },
   "source": [
    "## Softmax & Cross Entropy"
   ]
  },
  {
   "cell_type": "code",
   "execution_count": null,
   "id": "539429fd-abbd-4974-8a12-c827eba076d3",
   "metadata": {
    "id": "539429fd-abbd-4974-8a12-c827eba076d3"
   },
   "outputs": [],
   "source": [
    "# label\n",
    "y_label = torch.tensor([2, 0, 1, 0])"
   ]
  },
  {
   "cell_type": "code",
   "execution_count": null,
   "id": "447ba525-9011-4911-820f-30b4eb024fe6",
   "metadata": {
    "id": "447ba525-9011-4911-820f-30b4eb024fe6"
   },
   "outputs": [],
   "source": [
    "# logits\n",
    "logits = torch.randn(4, 3)\n",
    "logits"
   ]
  },
  {
   "cell_type": "code",
   "execution_count": null,
   "id": "09eaef75-4d3f-4ce9-b5ae-f0859b55046c",
   "metadata": {
    "id": "09eaef75-4d3f-4ce9-b5ae-f0859b55046c"
   },
   "outputs": [],
   "source": [
    "# softmax 직접계산\n",
    "y_pred = logits.exp() / logits.exp().sum(keepdim=True, dim=-1)\n",
    "y_pred"
   ]
  },
  {
   "cell_type": "code",
   "execution_count": null,
   "id": "6a443588-4064-4c44-9329-a1affd81450e",
   "metadata": {
    "id": "6a443588-4064-4c44-9329-a1affd81450e"
   },
   "outputs": [],
   "source": [
    "# softmax 함수호출\n",
    "y_pred = F.softmax(logits, dim=-1)\n",
    "y_pred"
   ]
  },
  {
   "cell_type": "code",
   "execution_count": null,
   "id": "9bc4a756-c6f7-4885-8692-7d3172f5dce2",
   "metadata": {
    "id": "9bc4a756-c6f7-4885-8692-7d3172f5dce2"
   },
   "outputs": [],
   "source": [
    "# y_true (one-hot)\n",
    "y_true = torch.eye(3)[y_label]\n",
    "y_true"
   ]
  },
  {
   "cell_type": "code",
   "execution_count": null,
   "id": "cf91c079-8c11-487c-91f8-d59503d57304",
   "metadata": {
    "id": "cf91c079-8c11-487c-91f8-d59503d57304"
   },
   "outputs": [],
   "source": [
    "# Cross Entropy Loss (직접 계산)\n",
    "-(y_true * y_pred.log()).sum(dim=-1).mean()"
   ]
  },
  {
   "cell_type": "code",
   "execution_count": null,
   "id": "1a091cff-f018-4a79-946a-a2fff6a62a0f",
   "metadata": {
    "id": "1a091cff-f018-4a79-946a-a2fff6a62a0f"
   },
   "outputs": [],
   "source": [
    "# Cross Entropy Loss (함수 사용, *logits 입력)\n",
    "F.cross_entropy(logits, y_true)"
   ]
  },
  {
   "cell_type": "markdown",
   "id": "2fcb5cb7-f790-4eb5-9410-8ffa97e61d4a",
   "metadata": {
    "id": "2fcb5cb7-f790-4eb5-9410-8ffa97e61d4a",
    "jp-MarkdownHeadingCollapsed": true
   },
   "source": [
    "## Maximum Likelihood Estimation: Equations"
   ]
  },
  {
   "cell_type": "code",
   "execution_count": null,
   "id": "b6d3b124-e80e-458c-a312-2758de941dac",
   "metadata": {
    "id": "b6d3b124-e80e-458c-a312-2758de941dac"
   },
   "outputs": [],
   "source": [
    "y_pred"
   ]
  },
  {
   "cell_type": "code",
   "execution_count": null,
   "id": "b61579f5-4055-4e9b-b398-b1b36ff8b6ee",
   "metadata": {
    "id": "b61579f5-4055-4e9b-b398-b1b36ff8b6ee"
   },
   "outputs": [],
   "source": [
    "# y_i (정답을 예측 확률)\n",
    "y_prob = (y_true * y_pred).sum(dim=-1)\n",
    "y_prob"
   ]
  },
  {
   "cell_type": "code",
   "execution_count": null,
   "id": "00cb853b-5bd2-4679-899a-138355b2621e",
   "metadata": {
    "id": "00cb853b-5bd2-4679-899a-138355b2621e"
   },
   "outputs": [],
   "source": [
    "# negative log likelihood\n",
    "-y_prob.log().sum()"
   ]
  },
  {
   "cell_type": "code",
   "execution_count": null,
   "id": "a45b1c01-7409-4efb-970a-762df4e914a2",
   "metadata": {
    "id": "a45b1c01-7409-4efb-970a-762df4e914a2"
   },
   "outputs": [],
   "source": [
    "# negative log likelihood (mean)\n",
    "-y_prob.log().mean()"
   ]
  },
  {
   "cell_type": "code",
   "execution_count": null,
   "id": "4af3b826-44ae-40bd-8554-59fb7ffa47c8",
   "metadata": {
    "id": "4af3b826-44ae-40bd-8554-59fb7ffa47c8"
   },
   "outputs": [],
   "source": [
    "# Cross Entropy Loss\n",
    "F.cross_entropy(logits, y_true)"
   ]
  },
  {
   "cell_type": "markdown",
   "id": "3af51068-93f8-4422-abb1-b02851cd7e4d",
   "metadata": {
    "id": "3af51068-93f8-4422-abb1-b02851cd7e4d",
    "jp-MarkdownHeadingCollapsed": true
   },
   "source": [
    "# 1.3 Preprocessing"
   ]
  },
  {
   "cell_type": "code",
   "execution_count": null,
   "id": "34f6bf28-0073-4667-9210-eb6d1b76ffb3",
   "metadata": {},
   "outputs": [],
   "source": [
    "%cd {work_dir}/src/kowiki\n",
    "!pwd"
   ]
  },
  {
   "cell_type": "markdown",
   "id": "b99710d3-8be6-44f3-9a4e-d7691cdbc14b",
   "metadata": {
    "id": "b99710d3-8be6-44f3-9a4e-d7691cdbc14b",
    "jp-MarkdownHeadingCollapsed": true
   },
   "source": [
    "## KoWiki Crawing"
   ]
  },
  {
   "cell_type": "code",
   "execution_count": null,
   "id": "a719f3ef-fa1b-47d1-b858-947ce6c38d36",
   "metadata": {
    "id": "a719f3ef-fa1b-47d1-b858-947ce6c38d36"
   },
   "outputs": [],
   "source": [
    "os.makedirs(\"data\", exist_ok=True)"
   ]
  },
  {
   "cell_type": "code",
   "execution_count": null,
   "id": "2c1c4639-35fd-4be8-8284-fc68c6d161b8",
   "metadata": {
    "id": "2c1c4639-35fd-4be8-8284-fc68c6d161b8"
   },
   "outputs": [],
   "source": [
    "# wiki download\n",
    "!wget https://dumps.wikimedia.org/kowiki/latest/kowiki-latest-pages-meta-current.xml.bz2 \\\n",
    "   -O ../../data/kowiki-latest-pages-meta-current.xml.bz2"
   ]
  },
  {
   "cell_type": "code",
   "execution_count": null,
   "id": "tH5A1iALlsAl",
   "metadata": {
    "id": "tH5A1iALlsAl"
   },
   "outputs": [],
   "source": [
    "# run src/kowiki/extract_kowiki.sh\n",
    "# !sh ./extract_kowiki.sh"
   ]
  },
  {
   "cell_type": "code",
   "execution_count": null,
   "id": "6362994d-b361-4904-9052-beba293bf825",
   "metadata": {
    "id": "6362994d-b361-4904-9052-beba293bf825"
   },
   "outputs": [],
   "source": [
    "with open('../../data/kowiki/AA/wiki_00') as f:\n",
    "    for line in f:\n",
    "        wiki = json.loads(line)['text']\n",
    "        break\n",
    "print(wiki)"
   ]
  },
  {
   "cell_type": "markdown",
   "id": "dd915995-e325-4b41-ada2-567946810dfe",
   "metadata": {
    "id": "dd915995-e325-4b41-ada2-567946810dfe",
    "jp-MarkdownHeadingCollapsed": true
   },
   "source": [
    "## Regular Expression"
   ]
  },
  {
   "cell_type": "markdown",
   "id": "460ee843-b064-4c9c-a961-2b8842a92742",
   "metadata": {
    "id": "460ee843-b064-4c9c-a961-2b8842a92742",
    "jp-MarkdownHeadingCollapsed": true
   },
   "source": [
    "### Phone Number"
   ]
  },
  {
   "cell_type": "code",
   "execution_count": null,
   "id": "ac5ae064-4c56-4c87-bc1b-865dbf69e8c9",
   "metadata": {
    "id": "ac5ae064-4c56-4c87-bc1b-865dbf69e8c9"
   },
   "outputs": [],
   "source": [
    "texts = [\n",
    "    \"010-1234-5678\",\n",
    "    \"01012345678\",\n",
    "    \"010 1234 5678\",\n",
    "    \"010)1234-5678\",\n",
    "    \"010.1234.5678\",\n",
    "    \"011-1234-5678\",\n",
    "    \"01112345678\",\n",
    "    \"011-123-4567\",\n",
    "    \"042-123-4567\",\n",
    "    \"02-1234-5678\",\n",
    "    \"821012345678\",\n",
    "    \"+82-10-1234-5678\",\n",
    "]"
   ]
  },
  {
   "cell_type": "code",
   "execution_count": null,
   "id": "b9e1fb6e-f468-4bc6-a581-785fe2842eb2",
   "metadata": {
    "id": "b9e1fb6e-f468-4bc6-a581-785fe2842eb2"
   },
   "outputs": [],
   "source": [
    "pattern = r\"\\+?(82)?-?0?[0-9]{1,2}(.|-)?[0-9]{3,4}(.|-)?[0-9]{4}\""
   ]
  },
  {
   "cell_type": "code",
   "execution_count": null,
   "id": "59464ce5-70fb-4c0a-9d4e-a5bc7e0af12d",
   "metadata": {
    "id": "59464ce5-70fb-4c0a-9d4e-a5bc7e0af12d"
   },
   "outputs": [],
   "source": [
    "cnt = 0\n",
    "for t in texts:\n",
    "    if re.match(pattern, t) is not None:\n",
    "        cnt += 1\n",
    "    else:\n",
    "        print(t)\n",
    "\n",
    "print(f\"{cnt}/{len(texts)}\")"
   ]
  },
  {
   "cell_type": "markdown",
   "id": "b7d52c4d-e257-41a9-95c0-8af87b6ad602",
   "metadata": {
    "id": "b7d52c4d-e257-41a9-95c0-8af87b6ad602",
    "jp-MarkdownHeadingCollapsed": true
   },
   "source": [
    "### Replacing"
   ]
  },
  {
   "cell_type": "code",
   "execution_count": null,
   "id": "a025f79e-a40f-463c-8ac4-858ff9b3925e",
   "metadata": {
    "id": "a025f79e-a40f-463c-8ac4-858ff9b3925e"
   },
   "outputs": [],
   "source": [
    "text = \"My phone number is 010-1234-5678\""
   ]
  },
  {
   "cell_type": "code",
   "execution_count": null,
   "id": "d9fa3f88-2114-4844-960f-d264e68a4e7f",
   "metadata": {
    "id": "d9fa3f88-2114-4844-960f-d264e68a4e7f"
   },
   "outputs": [],
   "source": [
    "re.sub(pattern, \"PHONE_NUMBER\", text)"
   ]
  },
  {
   "cell_type": "markdown",
   "id": "9314567f-fa00-4554-b797-3a7263af2855",
   "metadata": {
    "id": "9314567f-fa00-4554-b797-3a7263af2855",
    "jp-MarkdownHeadingCollapsed": true
   },
   "source": [
    "### Convert File"
   ]
  },
  {
   "cell_type": "code",
   "execution_count": null,
   "id": "c3e6fcb5-199b-40ef-b9c3-1ad2fb2c9058",
   "metadata": {},
   "outputs": [],
   "source": [
    "with open('../../data/kowiki/AA/wiki_00') as f:\n",
    "    for line in f:\n",
    "        wiki = json.loads(line)['text']\n",
    "        break\n",
    "with open('../../data/kowiki/wiki_dump.txt', 'w') as f:\n",
    "    f.write(wiki)"
   ]
  },
  {
   "cell_type": "code",
   "execution_count": null,
   "id": "e1c0e56f-38a5-48af-ae85-aa0f4737bb77",
   "metadata": {
    "id": "e1c0e56f-38a5-48af-ae85-aa0f4737bb77"
   },
   "outputs": [],
   "source": [
    "def convert_file(input_fn, pattern, text):\n",
    "    with open(input_fn) as f:\n",
    "        for line in f:\n",
    "            line = re.sub(pattern, text, line)\n",
    "            print(line.strip())"
   ]
  },
  {
   "cell_type": "code",
   "execution_count": null,
   "id": "d3641f84-a3e4-4a21-a2d6-72e4f79505ea",
   "metadata": {
    "id": "d3641f84-a3e4-4a21-a2d6-72e4f79505ea"
   },
   "outputs": [],
   "source": [
    "# number to *\n",
    "convert_file('../../data/kowiki/wiki_dump.txt', r'[0-9]', '*')"
   ]
  },
  {
   "cell_type": "code",
   "execution_count": null,
   "id": "baf622a8-442b-4bea-9a34-3fdb4d1a90f8",
   "metadata": {
    "id": "baf622a8-442b-4bea-9a34-3fdb4d1a90f8"
   },
   "outputs": [],
   "source": [
    "# 한글이 아닌 글자 *\n",
    "convert_file('../../data/kowiki/wiki_dump.txt', r'[^가-힣 ]', '*')"
   ]
  },
  {
   "cell_type": "code",
   "execution_count": null,
   "id": "1e799625-3a5e-4503-8204-6c8e77da96d1",
   "metadata": {
    "id": "1e799625-3a5e-4503-8204-6c8e77da96d1"
   },
   "outputs": [],
   "source": [
    "# 한글 *\n",
    "convert_file('../../data/kowiki/wiki_dump.txt', r'[가-힣]', '*')"
   ]
  },
  {
   "cell_type": "markdown",
   "id": "4e5112e2-9602-41b9-aa38-f55eff533ed8",
   "metadata": {
    "id": "4e5112e2-9602-41b9-aa38-f55eff533ed8",
    "jp-MarkdownHeadingCollapsed": true
   },
   "source": [
    "## Make Wiki Dump"
   ]
  },
  {
   "cell_type": "code",
   "execution_count": null,
   "id": "d970109a-4e90-4565-a8c1-0cf65c679062",
   "metadata": {
    "id": "d970109a-4e90-4565-a8c1-0cf65c679062"
   },
   "outputs": [],
   "source": [
    "# run src/kowiki/make_dump.sh\n",
    "# !sh ./make_dump.sh"
   ]
  },
  {
   "cell_type": "code",
   "execution_count": null,
   "id": "8f707be0-8695-44ce-bc05-b26ef2aa0304",
   "metadata": {
    "id": "8f707be0-8695-44ce-bc05-b26ef2aa0304"
   },
   "outputs": [],
   "source": [
    "with open('../../data/kowiki/wiki_dump.txt') as f:\n",
    "    for i, line in enumerate(f):\n",
    "        print(line.strip())\n",
    "        if i > 100:\n",
    "            break"
   ]
  },
  {
   "cell_type": "markdown",
   "id": "9334dd9d-2a56-42f4-86d5-d4c70492343e",
   "metadata": {
    "id": "9334dd9d-2a56-42f4-86d5-d4c70492343e",
    "jp-MarkdownHeadingCollapsed": true
   },
   "source": [
    "## Mecab"
   ]
  },
  {
   "cell_type": "code",
   "execution_count": null,
   "id": "db16963d-abe1-4c8f-99a3-c5c117ae5007",
   "metadata": {
    "id": "db16963d-abe1-4c8f-99a3-c5c117ae5007"
   },
   "outputs": [],
   "source": [
    "from mecab import MeCab"
   ]
  },
  {
   "cell_type": "code",
   "execution_count": null,
   "id": "9738cbcc-b17f-4498-b572-b11fa5f8a969",
   "metadata": {
    "id": "9738cbcc-b17f-4498-b572-b11fa5f8a969"
   },
   "outputs": [],
   "source": [
    "mecab = MeCab()"
   ]
  },
  {
   "cell_type": "code",
   "execution_count": null,
   "id": "2d2679d3-d8a3-4570-bc66-97c74ec8c6c1",
   "metadata": {
    "id": "2d2679d3-d8a3-4570-bc66-97c74ec8c6c1"
   },
   "outputs": [],
   "source": [
    "mecab.pos('아버지가 방에 들어가신다.')"
   ]
  },
  {
   "cell_type": "code",
   "execution_count": null,
   "id": "3bc4cddd-c671-43d7-b23b-1757b7fe9563",
   "metadata": {
    "id": "3bc4cddd-c671-43d7-b23b-1757b7fe9563"
   },
   "outputs": [],
   "source": [
    "mecab.pos('아버지 가방에 들어가신다.')"
   ]
  },
  {
   "cell_type": "code",
   "execution_count": null,
   "id": "c1bbdcd2-6df2-48aa-9813-8854416ec501",
   "metadata": {
    "id": "c1bbdcd2-6df2-48aa-9813-8854416ec501"
   },
   "outputs": [],
   "source": [
    "mecab.morphs('아버지가방에들어가신다.')"
   ]
  },
  {
   "cell_type": "code",
   "execution_count": null,
   "id": "018835d2-f49d-43f2-828a-2e33569b9d00",
   "metadata": {
    "id": "018835d2-f49d-43f2-828a-2e33569b9d00"
   },
   "outputs": [],
   "source": [
    "with open('../../data/kowiki/wiki_dump.txt') as f:\n",
    "    for i, line in enumerate(f):\n",
    "        print(mecab.morphs(line.strip()))\n",
    "        if i > 100:\n",
    "            break"
   ]
  },
  {
   "cell_type": "markdown",
   "id": "0291a074-caef-4fa1-80ac-e120c8d51773",
   "metadata": {
    "id": "0291a074-caef-4fa1-80ac-e120c8d51773",
    "jp-MarkdownHeadingCollapsed": true
   },
   "source": [
    "## BBPE"
   ]
  },
  {
   "cell_type": "code",
   "execution_count": null,
   "id": "376bb15c-5c76-4a25-a0fa-5db7c164ac5c",
   "metadata": {
    "id": "376bb15c-5c76-4a25-a0fa-5db7c164ac5c"
   },
   "outputs": [],
   "source": [
    "# run src/kowiki/tokenizer_train.sh\n",
    "# !sh ./tokenizer_train.sh"
   ]
  },
  {
   "cell_type": "code",
   "execution_count": null,
   "id": "KoSKcXtxt3xP",
   "metadata": {
    "id": "KoSKcXtxt3xP"
   },
   "outputs": [],
   "source": [
    "from transformers import T5TokenizerFast, AutoTokenizer"
   ]
  },
  {
   "cell_type": "code",
   "execution_count": null,
   "id": "We5kscd0tlXk",
   "metadata": {
    "id": "We5kscd0tlXk"
   },
   "outputs": [],
   "source": [
    "# Tokenizer load\n",
    "tokenizer = T5TokenizerFast.from_pretrained(\"../../data/kowiki_32k\")"
   ]
  },
  {
   "cell_type": "code",
   "execution_count": null,
   "id": "e666db8a-b1fc-4dd5-a0d0-ae1d092c2075",
   "metadata": {
    "id": "e666db8a-b1fc-4dd5-a0d0-ae1d092c2075"
   },
   "outputs": [],
   "source": [
    "ko_sentence = \"<s>이것은 테스트 문장입니다. <unused_0>어떻게 보이나요?<unused_1> 고유명사 \\\"파이썬 파이토치 허깅페이스\\\"는 어떻게 되나요?</s>\"\n",
    "en_sentence = \"<s>This is a test sentence. <unused_0>How does it look?<unused_1> Proper nouns \\\"Python PyTorch HuggingFace\\\" how does it go?</s>\""
   ]
  },
  {
   "cell_type": "code",
   "execution_count": null,
   "id": "fae27cc6-2c8c-42b6-902e-faf772c9ad93",
   "metadata": {
    "id": "fae27cc6-2c8c-42b6-902e-faf772c9ad93"
   },
   "outputs": [],
   "source": [
    "_ids = tokenizer.encode(ko_sentence)\n",
    "print(_ids)\n",
    "tokens = tokenizer.tokenize(ko_sentence)\n",
    "print(tokens)"
   ]
  },
  {
   "cell_type": "code",
   "execution_count": null,
   "id": "8461057e-c43b-4cee-917b-2e9672b81b72",
   "metadata": {
    "id": "8461057e-c43b-4cee-917b-2e9672b81b72"
   },
   "outputs": [],
   "source": [
    "# skip_special_tokens = True\n",
    "tokenizer.decode(_ids, skip_special_tokens=True)"
   ]
  },
  {
   "cell_type": "code",
   "execution_count": null,
   "id": "c5c93af6-3045-4835-84fa-541799f4887a",
   "metadata": {
    "id": "c5c93af6-3045-4835-84fa-541799f4887a"
   },
   "outputs": [],
   "source": [
    "# skip_special_tokens = False\n",
    "tokenizer.decode(_ids, skip_special_tokens=False)"
   ]
  },
  {
   "cell_type": "code",
   "execution_count": null,
   "id": "180f5fb1-e2ea-4e1d-ba0c-213fee0a0848",
   "metadata": {
    "id": "180f5fb1-e2ea-4e1d-ba0c-213fee0a0848"
   },
   "outputs": [],
   "source": [
    "_ids = tokenizer.encode(ko_sentence)\n",
    "print(_ids)\n",
    "tokens = tokenizer.tokenize(ko_sentence)\n",
    "print(tokens)"
   ]
  },
  {
   "cell_type": "code",
   "execution_count": null,
   "id": "IZXC0KseCeN3",
   "metadata": {
    "id": "IZXC0KseCeN3"
   },
   "outputs": [],
   "source": [
    "tokenizer.decode(_ids)"
   ]
  },
  {
   "cell_type": "code",
   "execution_count": null,
   "id": "5a2bfdb6-54e0-4e67-94eb-9a1078b85c3a",
   "metadata": {
    "id": "5a2bfdb6-54e0-4e67-94eb-9a1078b85c3a"
   },
   "outputs": [],
   "source": [
    "# load pre-trained tokenizer\n",
    "tokenizer = AutoTokenizer.from_pretrained(\"klue/bert-base\")"
   ]
  },
  {
   "cell_type": "code",
   "execution_count": null,
   "id": "55b55584-0e90-4433-baaa-25715f3865cf",
   "metadata": {
    "id": "55b55584-0e90-4433-baaa-25715f3865cf"
   },
   "outputs": [],
   "source": [
    "_ids = tokenizer.encode(ko_sentence)\n",
    "print(_ids)\n",
    "tokens = tokenizer.tokenize(ko_sentence)\n",
    "print(tokens)"
   ]
  },
  {
   "cell_type": "code",
   "execution_count": null,
   "id": "qMMZU64Jujl1",
   "metadata": {
    "id": "qMMZU64Jujl1"
   },
   "outputs": [],
   "source": [
    "tokenizer.decode(_ids)"
   ]
  },
  {
   "cell_type": "markdown",
   "id": "658217e3-83c2-4609-aec2-7bb97ca53a9b",
   "metadata": {
    "id": "658217e3-83c2-4609-aec2-7bb97ca53a9b",
    "jp-MarkdownHeadingCollapsed": true
   },
   "source": [
    "## One-hot 인코딩"
   ]
  },
  {
   "cell_type": "code",
   "execution_count": null,
   "id": "d0e92392-ab37-40ca-aee6-dbffce2957d7",
   "metadata": {
    "id": "d0e92392-ab37-40ca-aee6-dbffce2957d7"
   },
   "outputs": [],
   "source": [
    "words = [\n",
    "    \"가위\", \"공책\", \"교과서\", \"노트\", \"딱풀\",\n",
    "    \"볼펜\", \"색연필\", \"샤프\", \"싸인펜\", \"연필\",\n",
    "    \"자\", \"지우개\", \"책상\", \"칼\", \"필기장\",\n",
    "    \"필통\"\n",
    "]"
   ]
  },
  {
   "cell_type": "code",
   "execution_count": null,
   "id": "6aa6e83c-f00b-4b70-b0db-78060987e828",
   "metadata": {
    "id": "6aa6e83c-f00b-4b70-b0db-78060987e828"
   },
   "outputs": [],
   "source": [
    "word2id = {word:i for i, word in enumerate(words)}\n",
    "word2id"
   ]
  },
  {
   "cell_type": "code",
   "execution_count": null,
   "id": "99e4e799-b5f5-489f-938e-c6588a442e64",
   "metadata": {
    "id": "99e4e799-b5f5-489f-938e-c6588a442e64"
   },
   "outputs": [],
   "source": [
    "ids = [word2id[word] for word in ['공책', '노트', '지우개']]\n",
    "ids"
   ]
  },
  {
   "cell_type": "code",
   "execution_count": null,
   "id": "662b8e51-56e6-413c-8a24-a7caa169fa13",
   "metadata": {
    "id": "662b8e51-56e6-413c-8a24-a7caa169fa13"
   },
   "outputs": [],
   "source": [
    "torch.nn.functional.one_hot(\n",
    "    torch.from_numpy(np.array(ids)),\n",
    "    num_classes=len(word2id)\n",
    ")"
   ]
  },
  {
   "cell_type": "code",
   "execution_count": null,
   "id": "95ceac52-ab3a-4529-8b2b-21ad88d8dea3",
   "metadata": {
    "id": "95ceac52-ab3a-4529-8b2b-21ad88d8dea3"
   },
   "outputs": [],
   "source": [
    "# Tokenizer load\n",
    "tokenizer = T5TokenizerFast.from_pretrained(\"../../data/kowiki_32k\")"
   ]
  },
  {
   "cell_type": "code",
   "execution_count": null,
   "id": "ab117105-fc1e-4806-93d8-362b704ca47e",
   "metadata": {
    "id": "ab117105-fc1e-4806-93d8-362b704ca47e"
   },
   "outputs": [],
   "source": [
    "ids = tokenizer.encode('공책 노트 지우개')\n",
    "ids"
   ]
  },
  {
   "cell_type": "code",
   "execution_count": null,
   "id": "420fdcde-3c4c-4b64-9e43-4f01a76b893f",
   "metadata": {
    "id": "420fdcde-3c4c-4b64-9e43-4f01a76b893f"
   },
   "outputs": [],
   "source": [
    "tokenizer.decode(ids)"
   ]
  },
  {
   "cell_type": "code",
   "execution_count": null,
   "id": "392eb9d5-0444-42cd-9b12-6a2e6aaa715a",
   "metadata": {
    "id": "392eb9d5-0444-42cd-9b12-6a2e6aaa715a"
   },
   "outputs": [],
   "source": [
    "torch.nn.functional.one_hot(\n",
    "    torch.from_numpy(np.array(ids)),\n",
    "    num_classes=len(tokenizer)\n",
    ").shape"
   ]
  },
  {
   "cell_type": "code",
   "execution_count": null,
   "id": "48bbc486-d786-4760-b3a3-b0c381f4600c",
   "metadata": {
    "id": "48bbc486-d786-4760-b3a3-b0c381f4600c"
   },
   "outputs": [],
   "source": [
    "# tokenizer 비교\n",
    "# https://huggingface.co/openai-community/gpt2/tree/main\n",
    "# https://huggingface.co/google/gemma-2b/tree/main"
   ]
  },
  {
   "cell_type": "markdown",
   "id": "5d6226db-1fa5-4bc9-8bba-918e5891e6d9",
   "metadata": {
    "id": "5d6226db-1fa5-4bc9-8bba-918e5891e6d9",
    "jp-MarkdownHeadingCollapsed": true
   },
   "source": [
    "## 미니배치 만들기"
   ]
  },
  {
   "cell_type": "code",
   "execution_count": null,
   "id": "a3a85103-4d02-4bdb-888a-15a3205365f6",
   "metadata": {
    "id": "a3a85103-4d02-4bdb-888a-15a3205365f6"
   },
   "outputs": [],
   "source": [
    "sentences = []\n",
    "with open('../../data/kowiki/wiki_dump.txt') as f:\n",
    "    for line in f:\n",
    "        line = line.strip()\n",
    "        if line:\n",
    "            sentences.append(line)\n",
    "        if len(sentences) >= 10:\n",
    "            break\n",
    "sentences"
   ]
  },
  {
   "cell_type": "code",
   "execution_count": null,
   "id": "f7c7d727-dadf-453c-93d2-4dd30bcdbf3f",
   "metadata": {
    "id": "f7c7d727-dadf-453c-93d2-4dd30bcdbf3f"
   },
   "outputs": [],
   "source": [
    "tensors = []\n",
    "for line in sentences:\n",
    "    tensors.append(torch.from_numpy(np.array(tokenizer.encode(line))))\n",
    "tensors"
   ]
  },
  {
   "cell_type": "code",
   "execution_count": null,
   "id": "b41537af-bfd7-4ad9-8d7f-8f64d074dcc2",
   "metadata": {
    "id": "b41537af-bfd7-4ad9-8d7f-8f64d074dcc2"
   },
   "outputs": [],
   "source": [
    "mini_batch = torch.nn.utils.rnn.pad_sequence(\n",
    "    tensors,\n",
    "    batch_first=True,\n",
    "    padding_value=tokenizer.pad_token_id\n",
    ")\n",
    "print(mini_batch.shape)\n",
    "mini_batch"
   ]
  },
  {
   "cell_type": "markdown",
   "id": "c6a774a5-07de-4d91-817a-82474ff92f92",
   "metadata": {
    "id": "c6a774a5-07de-4d91-817a-82474ff92f92",
    "jp-MarkdownHeadingCollapsed": true
   },
   "source": [
    "# 1.4 Word Embedding"
   ]
  },
  {
   "cell_type": "code",
   "execution_count": null,
   "id": "4b1cb2cf-245e-40ec-a156-89e14a503324",
   "metadata": {},
   "outputs": [],
   "source": [
    "%cd {work_dir}/src/kowiki\n",
    "!pwd"
   ]
  },
  {
   "cell_type": "markdown",
   "id": "92f2d24b-7333-4b4e-b18e-f42ca473967d",
   "metadata": {
    "id": "92f2d24b-7333-4b4e-b18e-f42ca473967d",
    "jp-MarkdownHeadingCollapsed": true
   },
   "source": [
    "## Word2Vec (gensim)"
   ]
  },
  {
   "cell_type": "code",
   "execution_count": null,
   "id": "66b2510a-080b-4aae-a64c-de0f6a2753ef",
   "metadata": {
    "id": "66b2510a-080b-4aae-a64c-de0f6a2753ef"
   },
   "outputs": [],
   "source": [
    "import gensim\n",
    "import gensim.downloader as api"
   ]
  },
  {
   "cell_type": "code",
   "execution_count": null,
   "id": "18f9ad22-8989-4f63-a4f8-5aa89f1a4672",
   "metadata": {
    "id": "18f9ad22-8989-4f63-a4f8-5aa89f1a4672"
   },
   "outputs": [],
   "source": [
    "# 이미 학습된 model download\n",
    "# wv = api.load('word2vec-google-news-300') # 1.6G\n",
    "wv = api.load('glove-wiki-gigaword-100') # 128M"
   ]
  },
  {
   "cell_type": "code",
   "execution_count": null,
   "id": "42331538-e1b0-4c88-8960-af5f7df9a700",
   "metadata": {
    "id": "42331538-e1b0-4c88-8960-af5f7df9a700"
   },
   "outputs": [],
   "source": [
    "# vocab 개수 및 최초 20개 출력\n",
    "print(f\"len: {len(wv.index_to_key)}\")\n",
    "for i, word in enumerate(wv.index_to_key):\n",
    "    if i >= 20:\n",
    "        break\n",
    "    print(f\"{i:2d}: {word}\")"
   ]
  },
  {
   "cell_type": "code",
   "execution_count": null,
   "id": "a264ac04-1638-40ca-acf1-6b07faedf342",
   "metadata": {
    "id": "a264ac04-1638-40ca-acf1-6b07faedf342"
   },
   "outputs": [],
   "source": [
    "wv.most_similar('obama')"
   ]
  },
  {
   "cell_type": "code",
   "execution_count": null,
   "id": "48946a87-0432-483d-9601-221811e2f7e2",
   "metadata": {
    "id": "48946a87-0432-483d-9601-221811e2f7e2"
   },
   "outputs": [],
   "source": [
    "wv.most_similar('banana')"
   ]
  },
  {
   "cell_type": "code",
   "execution_count": null,
   "id": "ad1b97cf-d62d-4f44-bfba-8bbf215016c1",
   "metadata": {
    "id": "ad1b97cf-d62d-4f44-bfba-8bbf215016c1"
   },
   "outputs": [],
   "source": [
    "wv.most_similar('apple')"
   ]
  },
  {
   "cell_type": "code",
   "execution_count": null,
   "id": "de7772a4-ede1-46ac-8c42-443aab262df6",
   "metadata": {
    "id": "de7772a4-ede1-46ac-8c42-443aab262df6"
   },
   "outputs": [],
   "source": [
    "# p1 - n1 + p2\n",
    "def analogy(p1, n1, p2):\n",
    "    result = wv.most_similar(positive=[p2, p1], negative=[n1])\n",
    "    return result"
   ]
  },
  {
   "cell_type": "code",
   "execution_count": null,
   "id": "5199a744-615a-4497-be2e-bd4b87a72170",
   "metadata": {
    "id": "5199a744-615a-4497-be2e-bd4b87a72170"
   },
   "outputs": [],
   "source": [
    "# king - man + woman\n",
    "analogy('king', 'man', 'woman')"
   ]
  },
  {
   "cell_type": "code",
   "execution_count": null,
   "id": "6cb85c59-37a9-4727-a444-b6923242d2ad",
   "metadata": {
    "id": "6cb85c59-37a9-4727-a444-b6923242d2ad"
   },
   "outputs": [],
   "source": [
    "# japanese - japan + australia\n",
    "analogy('japanese', 'japan', 'australia')"
   ]
  },
  {
   "cell_type": "code",
   "execution_count": null,
   "id": "ad32c8d6-14f9-4266-8381-69e75c88f3d8",
   "metadata": {
    "id": "ad32c8d6-14f9-4266-8381-69e75c88f3d8"
   },
   "outputs": [],
   "source": [
    "# beer - australia + france\n",
    "analogy('beer', 'australia', 'france')"
   ]
  },
  {
   "cell_type": "code",
   "execution_count": null,
   "id": "522796ce-1e25-4f64-9de9-a6bb506fb115",
   "metadata": {
    "id": "522796ce-1e25-4f64-9de9-a6bb506fb115"
   },
   "outputs": [],
   "source": [
    "# clinton - reagan + obama\n",
    "analogy('clinton', 'reagan', 'obama')"
   ]
  },
  {
   "cell_type": "code",
   "execution_count": null,
   "id": "50e0ef66-1789-46f2-973c-319b54858b6c",
   "metadata": {
    "id": "50e0ef66-1789-46f2-973c-319b54858b6c"
   },
   "outputs": [],
   "source": [
    "# tallest - tall + long\n",
    "analogy('tallest', 'tall', 'long')"
   ]
  },
  {
   "cell_type": "code",
   "execution_count": null,
   "id": "a7a1cfcd-3a64-447a-92c9-93d6d88d50c4",
   "metadata": {
    "id": "a7a1cfcd-3a64-447a-92c9-93d6d88d50c4"
   },
   "outputs": [],
   "source": [
    "# fantastic - good + bad\n",
    "analogy('fantastic', 'good', 'bad')"
   ]
  },
  {
   "cell_type": "code",
   "execution_count": null,
   "id": "cd685f91-cc9d-4a32-8b79-de152babb614",
   "metadata": {
    "id": "cd685f91-cc9d-4a32-8b79-de152babb614"
   },
   "outputs": [],
   "source": [
    "wv.doesnt_match(\"breakfast cereal dinner lunch\".split())"
   ]
  },
  {
   "cell_type": "markdown",
   "id": "3fc1dfa1-1053-4b88-9f14-fca35ad11480",
   "metadata": {
    "id": "3fc1dfa1-1053-4b88-9f14-fca35ad11480",
    "jp-MarkdownHeadingCollapsed": true
   },
   "source": [
    "## 임베딩 레이어"
   ]
  },
  {
   "cell_type": "code",
   "execution_count": null,
   "id": "813158e0-8c03-4370-a80d-0f00e70a6b5f",
   "metadata": {
    "id": "813158e0-8c03-4370-a80d-0f00e70a6b5f"
   },
   "outputs": [],
   "source": [
    "# Tokenizer load\n",
    "tokenizer = T5TokenizerFast.from_pretrained(\"../../data/kowiki_32k\")"
   ]
  },
  {
   "cell_type": "code",
   "execution_count": null,
   "id": "a0b7a0a5-b6be-4c53-823c-b63bfd4919c7",
   "metadata": {
    "id": "a0b7a0a5-b6be-4c53-823c-b63bfd4919c7"
   },
   "outputs": [],
   "source": [
    "embedding = torch.nn.Embedding(\n",
    "    len(tokenizer),\n",
    "    4,\n",
    "    padding_idx=tokenizer.pad_token_id)\n",
    "embedding"
   ]
  },
  {
   "cell_type": "code",
   "execution_count": null,
   "id": "0a08e79e-bf6f-4052-888f-4c3e197f6f46",
   "metadata": {
    "id": "0a08e79e-bf6f-4052-888f-4c3e197f6f46"
   },
   "outputs": [],
   "source": [
    "embedding.weight"
   ]
  },
  {
   "cell_type": "code",
   "execution_count": null,
   "id": "ea607406-3d3a-47fd-a481-81ba18ccdae8",
   "metadata": {
    "id": "ea607406-3d3a-47fd-a481-81ba18ccdae8"
   },
   "outputs": [],
   "source": [
    "ids = tokenizer.encode('지미 카터는 조지아주 섬터 카운티 플레인스 마을에서 태어났다.')\n",
    "ids.append(tokenizer.pad_token_id)\n",
    "print(ids)"
   ]
  },
  {
   "cell_type": "code",
   "execution_count": null,
   "id": "7d3b002c-a362-4208-9151-26024f6f554e",
   "metadata": {
    "id": "7d3b002c-a362-4208-9151-26024f6f554e"
   },
   "outputs": [],
   "source": [
    "onehot = torch.nn.functional.one_hot(\n",
    "    torch.from_numpy(np.array(ids)),\n",
    "    num_classes=len(tokenizer)\n",
    ")\n",
    "onehot = onehot.float()\n",
    "onehot.shape"
   ]
  },
  {
   "cell_type": "code",
   "execution_count": null,
   "id": "81ebcc3f-0be2-4cf4-8012-6e297e292c80",
   "metadata": {
    "id": "81ebcc3f-0be2-4cf4-8012-6e297e292c80"
   },
   "outputs": [],
   "source": [
    "# (15, 32100) X (32100, 4) = (15, 4)\n",
    "torch.matmul(onehot, embedding.weight)"
   ]
  },
  {
   "cell_type": "code",
   "execution_count": null,
   "id": "e1ae45f2-8e50-4048-b22c-a7894a085155",
   "metadata": {
    "id": "e1ae45f2-8e50-4048-b22c-a7894a085155"
   },
   "outputs": [],
   "source": [
    "# (15,) = (15, 4)\n",
    "embedding(torch.from_numpy(np.array(ids)))"
   ]
  },
  {
   "cell_type": "code",
   "execution_count": null,
   "id": "d3691d2d-a4a4-45da-af21-0864557a14f5",
   "metadata": {
    "id": "d3691d2d-a4a4-45da-af21-0864557a14f5"
   },
   "outputs": [],
   "source": []
  }
 ],
 "metadata": {
  "colab": {
   "collapsed_sections": [
    "NesR0yDOyJf4",
    "df671168-b0aa-4ab5-82b4-898cb02eda44",
    "59fdfee4-909e-4a34-8c7b-092a070ddd2d",
    "df31a078-a7ce-49f4-aa7f-f183b892930a",
    "ea2193b0-3899-444c-960f-ef229bed1c8c",
    "f6cde4d7-ccc5-4af2-b90f-f84c2433470e",
    "2fcb5cb7-f790-4eb5-9410-8ffa97e61d4a",
    "3af51068-93f8-4422-abb1-b02851cd7e4d",
    "c6a774a5-07de-4d91-817a-82474ff92f92"
   ],
   "provenance": []
  },
  "kernelspec": {
   "display_name": "Python 3 (ipykernel)",
   "language": "python",
   "name": "python3"
  },
  "language_info": {
   "codemirror_mode": {
    "name": "ipython",
    "version": 3
   },
   "file_extension": ".py",
   "mimetype": "text/x-python",
   "name": "python",
   "nbconvert_exporter": "python",
   "pygments_lexer": "ipython3",
   "version": "3.10.14"
  }
 },
 "nbformat": 4,
 "nbformat_minor": 5
}
