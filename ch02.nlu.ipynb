{
 "cells": [
  {
   "cell_type": "markdown",
   "id": "14ec64db-b7f5-48e0-ac21-f66a0286eaee",
   "metadata": {
    "id": "14ec64db-b7f5-48e0-ac21-f66a0286eaee",
    "jp-MarkdownHeadingCollapsed": true
   },
   "source": [
    "# 2.0 Env"
   ]
  },
  {
   "cell_type": "code",
   "execution_count": null,
   "id": "359c1fd7-74b3-47ea-9ec2-6fd86fe4d234",
   "metadata": {
    "id": "359c1fd7-74b3-47ea-9ec2-6fd86fe4d234"
   },
   "outputs": [],
   "source": [
    "import os\n",
    "import argparse\n",
    "import pandas as pd\n",
    "import numpy as np\n",
    "\n",
    "from sklearn.model_selection import train_test_split\n",
    "\n",
    "import torch\n",
    "import torch.nn as nn\n",
    "import torch.nn.functional as F\n",
    "\n",
    "from tqdm.auto import tqdm\n",
    "from transformers import (\n",
    "    T5TokenizerFast,\n",
    "    AutoTokenizer\n",
    ")\n",
    "import wandb"
   ]
  },
  {
   "cell_type": "code",
   "execution_count": null,
   "id": "54066b38-9f16-41de-ac96-f9d2e9f90702",
   "metadata": {
    "id": "54066b38-9f16-41de-ac96-f9d2e9f90702"
   },
   "outputs": [],
   "source": [
    "# Gradient False\n",
    "torch.set_grad_enabled(True)\n",
    "# work dir\n",
    "work_dir = '/Users/cchyun/Workspace/nlp_ws/nlp-practice'"
   ]
  },
  {
   "cell_type": "code",
   "execution_count": null,
   "id": "yQ7Oic9_4OQ8",
   "metadata": {
    "id": "yQ7Oic9_4OQ8"
   },
   "outputs": [],
   "source": [
    "%cd {work_dir}\n",
    "!pwd"
   ]
  },
  {
   "cell_type": "markdown",
   "id": "301aaa98-6f9c-40cd-a6af-2856154bb8cc",
   "metadata": {
    "id": "301aaa98-6f9c-40cd-a6af-2856154bb8cc",
    "jp-MarkdownHeadingCollapsed": true
   },
   "source": [
    "# 2.1 RNN"
   ]
  },
  {
   "cell_type": "code",
   "execution_count": null,
   "id": "dcd5ecb5-900b-42dc-a183-2f500d230caf",
   "metadata": {
    "id": "dcd5ecb5-900b-42dc-a183-2f500d230caf"
   },
   "outputs": [],
   "source": [
    "# Tokenizer load\n",
    "tokenizer = T5TokenizerFast.from_pretrained(\"data/kowiki_32k\")"
   ]
  },
  {
   "cell_type": "code",
   "execution_count": null,
   "id": "31237f4f-949a-4748-abe6-38c60cc56667",
   "metadata": {
    "id": "31237f4f-949a-4748-abe6-38c60cc56667"
   },
   "outputs": [],
   "source": [
    "# input sentence\n",
    "sentences = [\n",
    "    '어린 시절.',\n",
    "    '지미 카터는 조지아주 마을에서 태어났다.'\n",
    "]"
   ]
  },
  {
   "cell_type": "code",
   "execution_count": null,
   "id": "5f2034fb-10aa-4a81-910d-4f9c1b32fa18",
   "metadata": {
    "id": "5f2034fb-10aa-4a81-910d-4f9c1b32fa18"
   },
   "outputs": [],
   "source": [
    "# input to tensor\n",
    "tensors = [torch.from_numpy(np.array(tokenizer.encode(line))) \\\n",
    "                                   for line in sentences]\n",
    "tensors"
   ]
  },
  {
   "cell_type": "code",
   "execution_count": null,
   "id": "84370b1c-e1b4-4c56-a79e-62192ce3346b",
   "metadata": {
    "id": "84370b1c-e1b4-4c56-a79e-62192ce3346b"
   },
   "outputs": [],
   "source": [
    "# mini-batch (padded)\n",
    "mini_batch = torch.nn.utils.rnn.pad_sequence(\n",
    "    tensors,\n",
    "    batch_first=True,\n",
    "    padding_value=tokenizer.pad_token_id\n",
    ")\n",
    "mini_batch"
   ]
  },
  {
   "cell_type": "code",
   "execution_count": null,
   "id": "7f6b311f-358a-4ebb-9a54-6fd5a91103dd",
   "metadata": {
    "id": "7f6b311f-358a-4ebb-9a54-6fd5a91103dd"
   },
   "outputs": [],
   "source": [
    "embedding = torch.nn.Embedding(\n",
    "    len(tokenizer),\n",
    "    4,\n",
    "    padding_idx=tokenizer.pad_token_id)\n",
    "embedding"
   ]
  },
  {
   "cell_type": "code",
   "execution_count": null,
   "id": "2c335d95-fcc6-46d0-8db7-42cda32492ec",
   "metadata": {
    "id": "2c335d95-fcc6-46d0-8db7-42cda32492ec"
   },
   "outputs": [],
   "source": [
    "# (bs, 8,) @ (48100, 4) = (bs, 8, 4)\n",
    "z = embedding(mini_batch)\n",
    "z"
   ]
  },
  {
   "cell_type": "markdown",
   "id": "c5b29af4-920c-4985-9089-4ccf2c2f4c63",
   "metadata": {
    "id": "c5b29af4-920c-4985-9089-4ccf2c2f4c63"
   },
   "source": [
    "## RNN: Step-by-Step"
   ]
  },
  {
   "cell_type": "markdown",
   "id": "bb785ad6-ad85-4b6d-a9de-7c74b71f38c6",
   "metadata": {
    "id": "bb785ad6-ad85-4b6d-a9de-7c74b71f38c6",
    "jp-MarkdownHeadingCollapsed": true
   },
   "source": [
    "### RNN (1 layer)"
   ]
  },
  {
   "cell_type": "code",
   "execution_count": null,
   "id": "24aaa4d5-a260-49a2-9099-d26f8da40ea2",
   "metadata": {
    "id": "24aaa4d5-a260-49a2-9099-d26f8da40ea2"
   },
   "outputs": [],
   "source": [
    "rnn = torch.nn.RNN(\n",
    "    input_size=4,\n",
    "    hidden_size=3,\n",
    "    num_layers=1,\n",
    "    nonlinearity='tanh',\n",
    "    bias=True,\n",
    "    batch_first=True,\n",
    "    dropout=0.0,\n",
    "    bidirectional=False,\n",
    ")"
   ]
  },
  {
   "cell_type": "code",
   "execution_count": null,
   "id": "7dbadf16-5127-4838-bc90-5556340f8c9c",
   "metadata": {
    "id": "7dbadf16-5127-4838-bc90-5556340f8c9c"
   },
   "outputs": [],
   "source": [
    "# no padding process\n",
    "# (bs, 8, 4) -> (bs, 8, 5)\n",
    "hidden, state = rnn(z)\n",
    "hidden, state"
   ]
  },
  {
   "cell_type": "code",
   "execution_count": null,
   "id": "a1838494-656a-44f5-b6ea-10d43fe9c615",
   "metadata": {
    "id": "a1838494-656a-44f5-b6ea-10d43fe9c615"
   },
   "outputs": [],
   "source": [
    "# length of input (without pad)\n",
    "lengths = (mini_batch != 0).sum(dim=-1)\n",
    "lengths"
   ]
  },
  {
   "cell_type": "code",
   "execution_count": null,
   "id": "510ec26f-eca0-4c8c-bf71-23970b0a3112",
   "metadata": {
    "id": "510ec26f-eca0-4c8c-bf71-23970b0a3112"
   },
   "outputs": [],
   "source": [
    "# drop pad z\n",
    "packed_z = torch.nn.utils.rnn.pack_padded_sequence(\n",
    "    z,\n",
    "    lengths,\n",
    "    batch_first=True,\n",
    "    enforce_sorted=False\n",
    ")\n",
    "# run rnn\n",
    "packed_h, state = rnn(packed_z)\n",
    "# make noraml hidden\n",
    "hidden, lengths = torch.nn.utils.rnn.pad_packed_sequence(\n",
    "    packed_h,\n",
    "    batch_first=True\n",
    ")\n",
    "hidden, state, lengths"
   ]
  },
  {
   "cell_type": "markdown",
   "id": "1112db9d-5ab8-4331-8ea4-124d08870e9f",
   "metadata": {
    "id": "1112db9d-5ab8-4331-8ea4-124d08870e9f",
    "jp-MarkdownHeadingCollapsed": true
   },
   "source": [
    "### RNN (n layer)"
   ]
  },
  {
   "cell_type": "code",
   "execution_count": null,
   "id": "8296d771-6e61-48c7-bd4e-1b4d68ea59b8",
   "metadata": {
    "id": "8296d771-6e61-48c7-bd4e-1b4d68ea59b8"
   },
   "outputs": [],
   "source": [
    "rnn = torch.nn.RNN(\n",
    "    input_size=4,\n",
    "    hidden_size=3,\n",
    "    num_layers=2,\n",
    "    nonlinearity='tanh',\n",
    "    bias=True,\n",
    "    batch_first=True,\n",
    "    dropout=0.0,\n",
    "    bidirectional=False,\n",
    ")"
   ]
  },
  {
   "cell_type": "code",
   "execution_count": null,
   "id": "e572568d-7899-41a3-aa4d-07ab538bae59",
   "metadata": {
    "id": "e572568d-7899-41a3-aa4d-07ab538bae59"
   },
   "outputs": [],
   "source": [
    "# length of input (without pad)\n",
    "lengths = (mini_batch != 0).sum(dim=-1)\n",
    "lengths"
   ]
  },
  {
   "cell_type": "code",
   "execution_count": null,
   "id": "672a3a59-74eb-448f-8b48-747b2f3a27cb",
   "metadata": {
    "id": "672a3a59-74eb-448f-8b48-747b2f3a27cb"
   },
   "outputs": [],
   "source": [
    "# drop pad z\n",
    "packed_z = torch.nn.utils.rnn.pack_padded_sequence(\n",
    "    z,\n",
    "    lengths,\n",
    "    batch_first=True,\n",
    "    enforce_sorted=False\n",
    ")\n",
    "# run rnn\n",
    "packed_h, state = rnn(packed_z)\n",
    "# make noraml hidden\n",
    "hidden, lengths = torch.nn.utils.rnn.pad_packed_sequence(\n",
    "    packed_h,\n",
    "    batch_first=True\n",
    ")\n",
    "hidden, state, lengths"
   ]
  },
  {
   "cell_type": "markdown",
   "id": "8ab7dbd5-d25d-4ff1-8098-4ec42dc2841b",
   "metadata": {
    "id": "8ab7dbd5-d25d-4ff1-8098-4ec42dc2841b",
    "jp-MarkdownHeadingCollapsed": true
   },
   "source": [
    "### RNN (bidirectional, n-layer)"
   ]
  },
  {
   "cell_type": "code",
   "execution_count": null,
   "id": "c4e7829a-0dca-4e93-a20a-d249e5eb5c8e",
   "metadata": {
    "id": "c4e7829a-0dca-4e93-a20a-d249e5eb5c8e"
   },
   "outputs": [],
   "source": [
    "rnn = torch.nn.RNN(\n",
    "    input_size=4,\n",
    "    hidden_size=3,\n",
    "    num_layers=2,\n",
    "    nonlinearity='tanh',\n",
    "    bias=True,\n",
    "    batch_first=True,\n",
    "    dropout=0.0,\n",
    "    bidirectional=True,\n",
    ")"
   ]
  },
  {
   "cell_type": "code",
   "execution_count": null,
   "id": "2af6044c-f68c-4960-b351-92fccf63cdbf",
   "metadata": {
    "id": "2af6044c-f68c-4960-b351-92fccf63cdbf"
   },
   "outputs": [],
   "source": [
    "# length of input (without pad)\n",
    "lengths = (mini_batch != 0).sum(dim=-1)\n",
    "lengths"
   ]
  },
  {
   "cell_type": "code",
   "execution_count": null,
   "id": "ca924828-e491-4a86-a31a-07375b5d8e4c",
   "metadata": {
    "id": "ca924828-e491-4a86-a31a-07375b5d8e4c"
   },
   "outputs": [],
   "source": [
    "# drop pad z\n",
    "packed_z = torch.nn.utils.rnn.pack_padded_sequence(\n",
    "    z,\n",
    "    lengths,\n",
    "    batch_first=True,\n",
    "    enforce_sorted=False\n",
    ")\n",
    "# run rnn\n",
    "packed_h, state = rnn(packed_z)\n",
    "# make noraml hidden\n",
    "hidden, lengths = torch.nn.utils.rnn.pad_packed_sequence(\n",
    "    packed_h,\n",
    "    batch_first=True\n",
    ")\n",
    "hidden, state, lengths"
   ]
  },
  {
   "cell_type": "markdown",
   "id": "3b4d7350-9cc6-43de-aeca-bf9aee37f9d4",
   "metadata": {
    "id": "3b4d7350-9cc6-43de-aeca-bf9aee37f9d4",
    "jp-MarkdownHeadingCollapsed": true
   },
   "source": [
    "## LSTM: 더 긴 입출력 다루기"
   ]
  },
  {
   "cell_type": "code",
   "execution_count": null,
   "id": "231d2eef-e264-4436-ae1c-19a5d091c80c",
   "metadata": {
    "id": "231d2eef-e264-4436-ae1c-19a5d091c80c"
   },
   "outputs": [],
   "source": [
    "lstm = torch.nn.LSTM(\n",
    "    input_size=4,\n",
    "    hidden_size=3,\n",
    "    num_layers=2,\n",
    "    bias=True,\n",
    "    batch_first=True,\n",
    "    dropout=0.0,\n",
    "    bidirectional=True,\n",
    ")"
   ]
  },
  {
   "cell_type": "code",
   "execution_count": null,
   "id": "5834c132-9d08-4719-b721-7a32958ad4e1",
   "metadata": {
    "id": "5834c132-9d08-4719-b721-7a32958ad4e1"
   },
   "outputs": [],
   "source": [
    "# length of input (without pad)\n",
    "lengths = (mini_batch != 0).sum(dim=-1)\n",
    "lengths"
   ]
  },
  {
   "cell_type": "code",
   "execution_count": null,
   "id": "75cd9882-edc0-484e-9f8e-fc7840b0d421",
   "metadata": {
    "id": "75cd9882-edc0-484e-9f8e-fc7840b0d421"
   },
   "outputs": [],
   "source": [
    "# drop pad z\n",
    "packed_z = torch.nn.utils.rnn.pack_padded_sequence(\n",
    "    z,\n",
    "    lengths,\n",
    "    batch_first=True,\n",
    "    enforce_sorted=False\n",
    ")\n",
    "# run rnn\n",
    "packed_h, (state_h, state_c) = lstm(packed_z)\n",
    "# make noraml hidden\n",
    "hidden, lengths = torch.nn.utils.rnn.pad_packed_sequence(\n",
    "    packed_h,\n",
    "    batch_first=True\n",
    ")\n",
    "hidden, state_h, state_c, lengths"
   ]
  },
  {
   "cell_type": "code",
   "execution_count": null,
   "id": "7fd522a5-20f8-4878-9c03-5a3942d32342",
   "metadata": {
    "id": "7fd522a5-20f8-4878-9c03-5a3942d32342"
   },
   "outputs": [],
   "source": [
    "gru = torch.nn.GRU(\n",
    "    input_size=4,\n",
    "    hidden_size=3,\n",
    "    num_layers=2,\n",
    "    bias=True,\n",
    "    batch_first=True,\n",
    "    dropout=0.0,\n",
    "    bidirectional=True,\n",
    ")"
   ]
  },
  {
   "cell_type": "code",
   "execution_count": null,
   "id": "08128970-dbc4-4262-bbad-280ae7281119",
   "metadata": {
    "id": "08128970-dbc4-4262-bbad-280ae7281119"
   },
   "outputs": [],
   "source": [
    "# drop pad z\n",
    "packed_z = torch.nn.utils.rnn.pack_padded_sequence(\n",
    "    z,\n",
    "    lengths,\n",
    "    batch_first=True,\n",
    "    enforce_sorted=False\n",
    ")\n",
    "# run rnn\n",
    "packed_h, state = gru(packed_z)\n",
    "# make noraml hidden\n",
    "hidden, lengths = torch.nn.utils.rnn.pad_packed_sequence(\n",
    "    packed_h,\n",
    "    batch_first=True\n",
    ")\n",
    "hidden, state, lengths"
   ]
  },
  {
   "cell_type": "markdown",
   "id": "5af54843-7809-496b-880b-9e588e6d1ed7",
   "metadata": {
    "id": "5af54843-7809-496b-880b-9e588e6d1ed7",
    "jp-MarkdownHeadingCollapsed": true
   },
   "source": [
    "# 2.2 RNN Text Classifier"
   ]
  },
  {
   "cell_type": "code",
   "execution_count": null,
   "id": "2RBPPkS089Y4",
   "metadata": {
    "id": "2RBPPkS089Y4"
   },
   "outputs": [],
   "source": [
    "%cd {work_dir}/src/tc\n",
    "!pwd"
   ]
  },
  {
   "cell_type": "markdown",
   "id": "6f7f82bf-a04f-4540-b976-ec5e101e9c2d",
   "metadata": {
    "id": "6f7f82bf-a04f-4540-b976-ec5e101e9c2d",
    "jp-MarkdownHeadingCollapsed": true
   },
   "source": [
    "## preprocess"
   ]
  },
  {
   "cell_type": "code",
   "execution_count": null,
   "id": "0ab31730-2ac7-4bb6-bbfb-6f230d0866a7",
   "metadata": {
    "id": "0ab31730-2ac7-4bb6-bbfb-6f230d0866a7"
   },
   "outputs": [],
   "source": [
    "os.makedirs(\"../../data/nsmc\", exist_ok=True)"
   ]
  },
  {
   "cell_type": "code",
   "execution_count": null,
   "id": "31b5dea8-781f-4618-ad5f-f62b015091ca",
   "metadata": {
    "id": "31b5dea8-781f-4618-ad5f-f62b015091ca"
   },
   "outputs": [],
   "source": [
    "!wget https://github.com/e9t/nsmc/raw/master/ratings_train.txt \\\n",
    "    -O ../../data/nsmc/train.tsv"
   ]
  },
  {
   "cell_type": "code",
   "execution_count": null,
   "id": "7adc8d81-dd55-447a-a218-f03425591267",
   "metadata": {
    "id": "7adc8d81-dd55-447a-a218-f03425591267"
   },
   "outputs": [],
   "source": [
    "!wget https://github.com/e9t/nsmc/raw/master/ratings_test.txt \\\n",
    "    -O ../../data/nsmc/test.tsv"
   ]
  },
  {
   "cell_type": "code",
   "execution_count": null,
   "id": "d11bd89d-54e8-4724-9d9d-e1b02871995e",
   "metadata": {
    "id": "d11bd89d-54e8-4724-9d9d-e1b02871995e"
   },
   "outputs": [],
   "source": [
    "# run src/tc/preprocess.sh"
   ]
  },
  {
   "cell_type": "markdown",
   "id": "d59ea135",
   "metadata": {
    "jp-MarkdownHeadingCollapsed": true
   },
   "source": [
    "## rnn tc tutorial"
   ]
  },
  {
   "cell_type": "markdown",
   "id": "1aff567d",
   "metadata": {
    "jp-MarkdownHeadingCollapsed": true
   },
   "source": [
    "### inputs & labels"
   ]
  },
  {
   "cell_type": "code",
   "execution_count": null,
   "id": "edb91987",
   "metadata": {},
   "outputs": [],
   "source": [
    "input_text = [\n",
    "    \"강력 추천합니다.\",\n",
    "    \"나중에 집에서 보는게 딱 좋은영화\"\n",
    "]\n",
    "label_id = [1, 0]"
   ]
  },
  {
   "cell_type": "code",
   "execution_count": null,
   "id": "43961e63",
   "metadata": {},
   "outputs": [],
   "source": [
    "tokenizer = AutoTokenizer.from_pretrained(\"klue/bert-base\")"
   ]
  },
  {
   "cell_type": "code",
   "execution_count": null,
   "id": "084240b3",
   "metadata": {},
   "outputs": [],
   "source": [
    "inputs = tokenizer(input_text,\n",
    "                   padding=True,\n",
    "                   truncation=True,\n",
    "                   max_length=128,\n",
    "                   return_tensors=\"pt\")\n",
    "inputs"
   ]
  },
  {
   "cell_type": "code",
   "execution_count": null,
   "id": "db803ea9",
   "metadata": {},
   "outputs": [],
   "source": [
    "labels = torch.tensor(label_id)\n",
    "# |labels| = (batch_size,)\n",
    "labels"
   ]
  },
  {
   "cell_type": "markdown",
   "id": "6088fb4e",
   "metadata": {
    "jp-MarkdownHeadingCollapsed": true
   },
   "source": [
    "### Model"
   ]
  },
  {
   "cell_type": "code",
   "execution_count": null,
   "id": "d1f83e1c",
   "metadata": {},
   "outputs": [],
   "source": [
    "n_layers = 2\n",
    "embedding_dim = 3\n",
    "hidden_dim = 4\n",
    "output_dim = 2\n",
    "vocab_size = tokenizer.vocab_size\n",
    "pad_idx = tokenizer.pad_token_id"
   ]
  },
  {
   "cell_type": "code",
   "execution_count": null,
   "id": "ad1708bc",
   "metadata": {},
   "outputs": [],
   "source": [
    "embedding = nn.Embedding(\n",
    "    vocab_size,\n",
    "    embedding_dim,\n",
    "    padding_idx=pad_idx,\n",
    ")\n",
    "\n",
    "lstm = nn.LSTM(\n",
    "    embedding_dim,\n",
    "    hidden_dim,\n",
    "    num_layers=n_layers,\n",
    "    bidirectional=True,\n",
    "    batch_first=True,  # If False, input shape is (seq_len, batch_size, input_size).\n",
    ")\n",
    "\n",
    "fc = nn.Linear(hidden_dim * 2, output_dim)"
   ]
  },
  {
   "cell_type": "markdown",
   "id": "6df21c44",
   "metadata": {
    "jp-MarkdownHeadingCollapsed": true
   },
   "source": [
    "### embedding & lstm"
   ]
  },
  {
   "cell_type": "code",
   "execution_count": null,
   "id": "f2a47738",
   "metadata": {},
   "outputs": [],
   "source": [
    "embed = embedding(inputs['input_ids'])\n",
    " # |embed| = (batch_size, seq_len, embedding_dim)\n",
    "embed"
   ]
  },
  {
   "cell_type": "code",
   "execution_count": null,
   "id": "cb216db6",
   "metadata": {},
   "outputs": [],
   "source": [
    "output, (hidden_l, cell_l) = lstm(embed)\n",
    "# |output| = (batch_size, seq_len, hidden_dim * 2)\n",
    "# |hidden_l| = (n_layers * 2, batch_size, hidden_dim)\n",
    "# |cell_l| = (n_layers * 2, batch_size, hidden_dim)\n",
    "output, hidden_l, cell_l"
   ]
  },
  {
   "cell_type": "code",
   "execution_count": null,
   "id": "3cf81bb2",
   "metadata": {},
   "outputs": [],
   "source": [
    "hidden = torch.cat((hidden_l[-2], hidden_l[-1]), dim=-1)\n",
    "# |hidden| = (batch_size, hidden_dim * 2)\n",
    "hidden"
   ]
  },
  {
   "cell_type": "markdown",
   "id": "4f798274",
   "metadata": {
    "jp-MarkdownHeadingCollapsed": true
   },
   "source": [
    "### linear & softmax"
   ]
  },
  {
   "cell_type": "code",
   "execution_count": null,
   "id": "b577f7cf",
   "metadata": {},
   "outputs": [],
   "source": [
    "logits = fc(hidden)\n",
    "# |logits| = (batch_size, output_dim)\n",
    "logits"
   ]
  },
  {
   "cell_type": "code",
   "execution_count": null,
   "id": "7c044559",
   "metadata": {},
   "outputs": [],
   "source": [
    "prob = F.softmax(logits, dim=-1)\n",
    "# |logits| = (batch_size, output_dim)\n",
    "prob"
   ]
  },
  {
   "cell_type": "markdown",
   "id": "6e473027",
   "metadata": {
    "jp-MarkdownHeadingCollapsed": true
   },
   "source": [
    "### loss"
   ]
  },
  {
   "cell_type": "code",
   "execution_count": null,
   "id": "450c30cd",
   "metadata": {},
   "outputs": [],
   "source": [
    "criterion = torch.nn.CrossEntropyLoss()"
   ]
  },
  {
   "cell_type": "code",
   "execution_count": null,
   "id": "ceda2c7e",
   "metadata": {},
   "outputs": [],
   "source": [
    "loss = criterion(logits.view(-1, logits.size(-1)), labels.view(-1,))\n",
    "loss"
   ]
  },
  {
   "cell_type": "markdown",
   "id": "90cd803f-8e77-4e17-82d0-9f7d41a1fc07",
   "metadata": {
    "id": "90cd803f-8e77-4e17-82d0-9f7d41a1fc07",
    "jp-MarkdownHeadingCollapsed": true
   },
   "source": [
    "## rnn train"
   ]
  },
  {
   "cell_type": "code",
   "execution_count": null,
   "id": "MABvRpdUwV0P",
   "metadata": {
    "id": "MABvRpdUwV0P"
   },
   "outputs": [],
   "source": [
    "# run src/tc/train_rnn.sh\n",
    "!sh train_rnn.sh \"cchyun-rnn-tc\""
   ]
  },
  {
   "cell_type": "markdown",
   "id": "Dr1AlgQ0ot7o",
   "metadata": {
    "id": "Dr1AlgQ0ot7o",
    "jp-MarkdownHeadingCollapsed": true
   },
   "source": [
    "## rnn classify"
   ]
  },
  {
   "cell_type": "code",
   "execution_count": null,
   "id": "8DxehEZqpGt0",
   "metadata": {
    "id": "8DxehEZqpGt0"
   },
   "outputs": [],
   "source": [
    "# run src/tc/classify_rnn.sh\n",
    "!sh classify_rnn.sh \"../../checkpoints/cchyun-rnn-tc-20240321-152704.pt\""
   ]
  },
  {
   "cell_type": "markdown",
   "id": "i98Cy-PFpSB7",
   "metadata": {
    "id": "i98Cy-PFpSB7",
    "jp-MarkdownHeadingCollapsed": true
   },
   "source": [
    "## rnn infer"
   ]
  },
  {
   "cell_type": "code",
   "execution_count": null,
   "id": "Lb9Nbe8hKwhi",
   "metadata": {
    "id": "Lb9Nbe8hKwhi"
   },
   "outputs": [],
   "source": [
    "from rnn import LSTMClassifier"
   ]
  },
  {
   "cell_type": "code",
   "execution_count": null,
   "id": "c8ck4XFEKXZD",
   "metadata": {
    "id": "c8ck4XFEKXZD"
   },
   "outputs": [],
   "source": [
    "device = (\n",
    "    torch.device(\"cpu\")\n",
    ")\n",
    "\n",
    "model_fn = \"../../checkpoints/cchyun-rnn-tc-20240321-152704.pt\"\n",
    "\n",
    "data = torch.load(model_fn, map_location=device)\n",
    "train_config = data[\"config\"]\n",
    "label2idx = data[\"label2idx\"]\n",
    "idx2label = data[\"idx2label\"]"
   ]
  },
  {
   "cell_type": "code",
   "execution_count": null,
   "id": "7Hn5yEJspZOJ",
   "metadata": {
    "id": "7Hn5yEJspZOJ"
   },
   "outputs": [],
   "source": [
    "tokenizer = AutoTokenizer.from_pretrained(train_config.tokenizer)"
   ]
  },
  {
   "cell_type": "code",
   "execution_count": null,
   "id": "sAE8loCMpVIJ",
   "metadata": {
    "id": "sAE8loCMpVIJ"
   },
   "outputs": [],
   "source": [
    "model = LSTMClassifier(\n",
    "    vocab_size=len(tokenizer),\n",
    "    embedding_dim=train_config.embedding_dim,\n",
    "    hidden_dim=train_config.hidden_dim,\n",
    "    output_dim=len(label2idx),\n",
    "    n_layers=train_config.n_layers,\n",
    "    dropout=train_config.dropout,\n",
    "    pad_idx=tokenizer.pad_token_id,\n",
    ")\n",
    "model.load_state_dict(data[\"model\"])\n",
    "model.eval()\n",
    "model.to(device)"
   ]
  },
  {
   "cell_type": "code",
   "execution_count": null,
   "id": "pHp0AoclQ8hi",
   "metadata": {
    "id": "pHp0AoclQ8hi"
   },
   "outputs": [],
   "source": [
    "while True:\n",
    "    print(\"input> \", end=\"\")\n",
    "    line = str(input())\n",
    "    if len(line) == 0:\n",
    "        break\n",
    "\n",
    "    x = tokenizer(\n",
    "        line,\n",
    "        truncation=True,\n",
    "        max_length=train_config.max_length,\n",
    "        return_tensors=\"pt\",\n",
    "    )[\"input_ids\"]\n",
    "    x = x.to(device)\n",
    "    # |x| = (batch_size, seq_len)\n",
    "\n",
    "    logit = model(x)[0]\n",
    "    prob = F.softmax(logit, dim=-1)\n",
    "    # |prob| = (batch_size, output_dim)\n",
    "\n",
    "    y = prob.argmax(dim=-1)\n",
    "    # |y| = (batch_size,)\n",
    "\n",
    "    print(f\"{idx2label[y.item()]}\\t{prob[y].item():.4f}\\t{line}\")"
   ]
  },
  {
   "cell_type": "markdown",
   "id": "286aff0c-f6b0-4305-b393-32fa50df5c3a",
   "metadata": {
    "id": "286aff0c-f6b0-4305-b393-32fa50df5c3a",
    "jp-MarkdownHeadingCollapsed": true
   },
   "source": [
    "# 2.3 CNN Text Classifier"
   ]
  },
  {
   "cell_type": "code",
   "execution_count": null,
   "id": "o67YFYo6LxQ7",
   "metadata": {
    "id": "o67YFYo6LxQ7"
   },
   "outputs": [],
   "source": [
    "%cd {work_dir}/src/tc\n",
    "!pwd"
   ]
  },
  {
   "cell_type": "markdown",
   "id": "d8b346b2-fc5d-4734-87c3-38d9db9590a4",
   "metadata": {
    "executionInfo": {
     "elapsed": 6,
     "status": "aborted",
     "timestamp": 1710220485799,
     "user": {
      "displayName": "현청천",
      "userId": "02662570985009482782"
     },
     "user_tz": -540
    },
    "id": "d8b346b2-fc5d-4734-87c3-38d9db9590a4"
   },
   "source": [
    "## CNN"
   ]
  },
  {
   "cell_type": "markdown",
   "id": "07ee7735-ab50-43e5-868a-7420e7c1da04",
   "metadata": {
    "id": "07ee7735-ab50-43e5-868a-7420e7c1da04",
    "jp-MarkdownHeadingCollapsed": true
   },
   "source": [
    "### Inputs"
   ]
  },
  {
   "cell_type": "code",
   "execution_count": null,
   "id": "707b73d0-cc5e-45c7-a6e4-3ff5d06dbcd6",
   "metadata": {
    "id": "707b73d0-cc5e-45c7-a6e4-3ff5d06dbcd6"
   },
   "outputs": [],
   "source": [
    "# Tokenizer load\n",
    "tokenizer = AutoTokenizer.from_pretrained(\"klue/bert-base\")"
   ]
  },
  {
   "cell_type": "code",
   "execution_count": null,
   "id": "96e56f06-f88d-48c9-a95f-707e0770b589",
   "metadata": {
    "id": "96e56f06-f88d-48c9-a95f-707e0770b589"
   },
   "outputs": [],
   "source": [
    "# input sentence\n",
    "sentences = [\n",
    "    '어린 시절.',\n",
    "    '지미 카터는 조지아주 마을에서 태어났다.'\n",
    "]"
   ]
  },
  {
   "cell_type": "code",
   "execution_count": null,
   "id": "d93fd056-0886-428f-9b63-95cc964ee678",
   "metadata": {
    "id": "d93fd056-0886-428f-9b63-95cc964ee678"
   },
   "outputs": [],
   "source": [
    "# input to tensor\n",
    "tensors = [torch.from_numpy(np.array(tokenizer.encode(line))) \\\n",
    "                                   for line in sentences]\n",
    "tensors"
   ]
  },
  {
   "cell_type": "code",
   "execution_count": null,
   "id": "6e1d4241-e1fa-49ae-a6b8-78f6668bcf2b",
   "metadata": {
    "id": "6e1d4241-e1fa-49ae-a6b8-78f6668bcf2b"
   },
   "outputs": [],
   "source": [
    "# mini-batch (padded)\n",
    "mini_batch = torch.nn.utils.rnn.pad_sequence(\n",
    "    tensors,\n",
    "    batch_first=True,\n",
    "    padding_value=tokenizer.pad_token_id\n",
    ")\n",
    "mini_batch"
   ]
  },
  {
   "cell_type": "code",
   "execution_count": null,
   "id": "c2a30d7f-041a-4d2a-834c-8c313c332e2c",
   "metadata": {
    "id": "c2a30d7f-041a-4d2a-834c-8c313c332e2c"
   },
   "outputs": [],
   "source": [
    "embedding = torch.nn.Embedding(\n",
    "    len(tokenizer),\n",
    "    4,\n",
    "    padding_idx=tokenizer.pad_token_id)\n",
    "embedding"
   ]
  },
  {
   "cell_type": "code",
   "execution_count": null,
   "id": "5d4d6644-d80b-4463-8e52-1391583ad0f7",
   "metadata": {
    "id": "5d4d6644-d80b-4463-8e52-1391583ad0f7"
   },
   "outputs": [],
   "source": [
    "# (bs, 8,) @ (48100, 4) = (bs, 8, 4)\n",
    "z = embedding(mini_batch)\n",
    "z"
   ]
  },
  {
   "cell_type": "markdown",
   "id": "fd17e588-1c1a-45c4-8533-744eba6e2cc4",
   "metadata": {
    "id": "fd17e588-1c1a-45c4-8533-744eba6e2cc4",
    "jp-MarkdownHeadingCollapsed": true
   },
   "source": [
    "### Conv1D"
   ]
  },
  {
   "cell_type": "code",
   "execution_count": null,
   "id": "76916438-298c-490a-aa8a-d2c6f8738721",
   "metadata": {
    "id": "76916438-298c-490a-aa8a-d2c6f8738721"
   },
   "outputs": [],
   "source": [
    "conv1 = nn.Conv1d(\n",
    "    in_channels=4,\n",
    "    out_channels=5,\n",
    "    kernel_size=3,\n",
    "    stride=1,\n",
    "    padding=1)"
   ]
  },
  {
   "cell_type": "code",
   "execution_count": null,
   "id": "40ffcac4-4bba-4008-8859-e47078b8bd78",
   "metadata": {
    "id": "40ffcac4-4bba-4008-8859-e47078b8bd78"
   },
   "outputs": [],
   "source": [
    "# (batch_size, in_channel, length) -> (batch_size, out_channel, length)\n",
    "hidden = conv1(z.transpose(2, 1)).transpose(1, 2)\n",
    "hidden.shape"
   ]
  },
  {
   "cell_type": "markdown",
   "id": "YLg0M5oLLxQ6",
   "metadata": {
    "id": "YLg0M5oLLxQ6",
    "jp-MarkdownHeadingCollapsed": true
   },
   "source": [
    "### cnn train"
   ]
  },
  {
   "cell_type": "code",
   "execution_count": null,
   "id": "6vMNYLFdLxQ7",
   "metadata": {
    "id": "6vMNYLFdLxQ7"
   },
   "outputs": [],
   "source": [
    "# run src/tc/train_cnn.sh\n",
    "!sh train_cnn.sh \"cchyun-cnn-tc\""
   ]
  },
  {
   "cell_type": "markdown",
   "id": "CBp1eRQILxQ8",
   "metadata": {
    "id": "CBp1eRQILxQ8",
    "jp-MarkdownHeadingCollapsed": true
   },
   "source": [
    "### cnn classify"
   ]
  },
  {
   "cell_type": "code",
   "execution_count": null,
   "id": "K5hiJ4nULxQ9",
   "metadata": {
    "id": "K5hiJ4nULxQ9"
   },
   "outputs": [],
   "source": [
    "# run src/tc/classify_cnn.sh\n",
    "!sh classify_cnn.sh \"../../checkpoints/cchyun-cnn-tc-20240321-153708.pt\""
   ]
  },
  {
   "cell_type": "markdown",
   "id": "Bty9gFmXLxQ9",
   "metadata": {
    "id": "Bty9gFmXLxQ9",
    "jp-MarkdownHeadingCollapsed": true
   },
   "source": [
    "### cnn infer"
   ]
  },
  {
   "cell_type": "code",
   "execution_count": null,
   "id": "1xCm4p3PLxQ9",
   "metadata": {
    "id": "1xCm4p3PLxQ9"
   },
   "outputs": [],
   "source": [
    "from cnn import CNNClassifier"
   ]
  },
  {
   "cell_type": "code",
   "execution_count": null,
   "id": "gz1QTQuKLxQ9",
   "metadata": {
    "id": "gz1QTQuKLxQ9"
   },
   "outputs": [],
   "source": [
    "device = (\n",
    "    torch.device(\"cpu\")\n",
    ")\n",
    "\n",
    "model_fn = \"../../checkpoints/cchyun-cnn-tc-20240321-153708.pt\"\n",
    "\n",
    "data = torch.load(model_fn, map_location=device)\n",
    "train_config = data[\"config\"]\n",
    "label2idx = data[\"label2idx\"]\n",
    "idx2label = data[\"idx2label\"]"
   ]
  },
  {
   "cell_type": "code",
   "execution_count": null,
   "id": "9LjNZzruLxQ9",
   "metadata": {
    "id": "9LjNZzruLxQ9"
   },
   "outputs": [],
   "source": [
    "tokenizer = AutoTokenizer.from_pretrained(train_config.tokenizer)"
   ]
  },
  {
   "cell_type": "code",
   "execution_count": null,
   "id": "FJUapfUCLxQ9",
   "metadata": {
    "id": "FJUapfUCLxQ9"
   },
   "outputs": [],
   "source": [
    "model = CNNClassifier(\n",
    "    vocab_size=len(tokenizer),\n",
    "    embedding_dim=train_config.embedding_dim,\n",
    "    hidden_dim=train_config.hidden_dim,\n",
    "    output_dim=len(label2idx),\n",
    "    n_layers=train_config.n_layers,\n",
    "    dropout=train_config.dropout,\n",
    "    pad_idx=tokenizer.pad_token_id,\n",
    ")\n",
    "model.load_state_dict(data[\"model\"])\n",
    "model.eval()\n",
    "model.to(device)"
   ]
  },
  {
   "cell_type": "code",
   "execution_count": null,
   "id": "iIf8pzxrLxQ9",
   "metadata": {
    "id": "iIf8pzxrLxQ9"
   },
   "outputs": [],
   "source": [
    "while True:\n",
    "    print(\"input> \", end=\"\")\n",
    "    line = str(input())\n",
    "    if len(line) == 0:\n",
    "        break\n",
    "\n",
    "    x = tokenizer(\n",
    "        line,\n",
    "        truncation=True,\n",
    "        max_length=train_config.max_length,\n",
    "        return_tensors=\"pt\",\n",
    "    )[\"input_ids\"]\n",
    "    x = x.to(device)\n",
    "    # |x| = (batch_size, seq_len)\n",
    "\n",
    "    logit = model(x)[0]\n",
    "    prob = F.softmax(logit, dim=-1)\n",
    "    # |prob| = (batch_size, output_dim)\n",
    "\n",
    "    y = prob.argmax(dim=-1)\n",
    "    # |y| = (batch_size,)\n",
    "\n",
    "    print(f\"{idx2label[y.item()]}\\t{prob[y].item():.4f}\\t{line}\")"
   ]
  },
  {
   "cell_type": "code",
   "execution_count": null,
   "id": "MROC78ARPq6m",
   "metadata": {
    "id": "MROC78ARPq6m"
   },
   "outputs": [],
   "source": []
  }
 ],
 "metadata": {
  "accelerator": "GPU",
  "colab": {
   "collapsed_sections": [
    "u1t3ki7NxWt9",
    "14ec64db-b7f5-48e0-ac21-f66a0286eaee",
    "301aaa98-6f9c-40cd-a6af-2856154bb8cc",
    "5af54843-7809-496b-880b-9e588e6d1ed7",
    "6f7f82bf-a04f-4540-b976-ec5e101e9c2d",
    "90cd803f-8e77-4e17-82d0-9f7d41a1fc07",
    "Dr1AlgQ0ot7o",
    "i98Cy-PFpSB7",
    "286aff0c-f6b0-4305-b393-32fa50df5c3a",
    "d8b346b2-fc5d-4734-87c3-38d9db9590a4",
    "07ee7735-ab50-43e5-868a-7420e7c1da04",
    "fd17e588-1c1a-45c4-8533-744eba6e2cc4",
    "YLg0M5oLLxQ6",
    "CBp1eRQILxQ8",
    "Bty9gFmXLxQ9"
   ],
   "gpuType": "T4",
   "provenance": []
  },
  "kernelspec": {
   "display_name": "Python 3 (ipykernel)",
   "language": "python",
   "name": "python3"
  },
  "language_info": {
   "codemirror_mode": {
    "name": "ipython",
    "version": 3
   },
   "file_extension": ".py",
   "mimetype": "text/x-python",
   "name": "python",
   "nbconvert_exporter": "python",
   "pygments_lexer": "ipython3",
   "version": "3.10.14"
  }
 },
 "nbformat": 4,
 "nbformat_minor": 5
}
