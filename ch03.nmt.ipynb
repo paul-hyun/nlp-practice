{
 "cells": [
  {
   "cell_type": "markdown",
   "id": "8e1b6bc1-9d0b-4840-b82d-788da26fb467",
   "metadata": {
    "id": "8e1b6bc1-9d0b-4840-b82d-788da26fb467",
    "jp-MarkdownHeadingCollapsed": true
   },
   "source": [
    "# Env"
   ]
  },
  {
   "cell_type": "code",
   "execution_count": null,
   "id": "6a654fc9-033f-4adf-ba2d-2936ad6603d8",
   "metadata": {
    "id": "6a654fc9-033f-4adf-ba2d-2936ad6603d8"
   },
   "outputs": [],
   "source": [
    "import os\n",
    "import argparse\n",
    "import collections\n",
    "from datetime import datetime\n",
    "import re\n",
    "import json\n",
    "import pandas as pd\n",
    "import numpy as np\n",
    "\n",
    "from sklearn.model_selection import train_test_split\n",
    "\n",
    "import torch\n",
    "import torch.nn as nn\n",
    "import torch.nn.functional as F\n",
    "\n",
    "from tqdm.auto import tqdm\n",
    "from transformers import (\n",
    "    T5TokenizerFast,\n",
    "    AutoTokenizer\n",
    ")\n",
    "from tokenizers import ByteLevelBPETokenizer"
   ]
  },
  {
   "cell_type": "code",
   "execution_count": null,
   "id": "6489a088-eaec-4250-98a0-2b0d25dd59e8",
   "metadata": {
    "id": "6489a088-eaec-4250-98a0-2b0d25dd59e8"
   },
   "outputs": [],
   "source": [
    "# Gradient False\n",
    "torch.set_grad_enabled(True)\n",
    "# work dir\n",
    "work_dir = '/Users/cchyun/Workspace/nlp_ws/nlp-practice'"
   ]
  },
  {
   "cell_type": "code",
   "execution_count": null,
   "id": "31MiVvMwQs5F",
   "metadata": {
    "id": "31MiVvMwQs5F"
   },
   "outputs": [],
   "source": [
    "%cd {work_dir}\n",
    "!pwd"
   ]
  },
  {
   "cell_type": "markdown",
   "id": "60aa673d",
   "metadata": {
    "id": "60aa673d",
    "jp-MarkdownHeadingCollapsed": true
   },
   "source": [
    "# 3.0 NMT Preprocessing & Tokenizer"
   ]
  },
  {
   "cell_type": "code",
   "execution_count": null,
   "id": "24e98a21",
   "metadata": {
    "id": "24e98a21"
   },
   "outputs": [],
   "source": [
    "%cd {work_dir}/src/nmt\n",
    "!pwd"
   ]
  },
  {
   "cell_type": "code",
   "execution_count": null,
   "id": "1719c9a8",
   "metadata": {
    "id": "1719c9a8"
   },
   "outputs": [],
   "source": [
    "fn_list = []\n",
    "for fn in os.listdir('../../data/aihub_koen'):\n",
    "    if fn.endswith('.xlsx'):\n",
    "        fn_list.append(f'../../data/aihub_koen/{fn}')\n",
    "fn_list"
   ]
  },
  {
   "cell_type": "code",
   "execution_count": null,
   "id": "8443decf",
   "metadata": {
    "id": "8443decf"
   },
   "outputs": [],
   "source": [
    "pd.read_excel(fn_list[1])"
   ]
  },
  {
   "cell_type": "code",
   "execution_count": null,
   "id": "5d2802aa",
   "metadata": {
    "id": "5d2802aa"
   },
   "outputs": [],
   "source": [
    "# run src/nmt/preprocess.sh"
   ]
  },
  {
   "cell_type": "code",
   "execution_count": null,
   "id": "124ad589",
   "metadata": {
    "id": "124ad589"
   },
   "outputs": [],
   "source": [
    "# run src/nmt/tokenizer_train.sh"
   ]
  },
  {
   "cell_type": "markdown",
   "id": "b2f7c766-5bf7-444c-b0e1-b1e1e0ac7445",
   "metadata": {
    "id": "b2f7c766-5bf7-444c-b0e1-b1e1e0ac7445",
    "jp-MarkdownHeadingCollapsed": true
   },
   "source": [
    "# 3.1 Language Model"
   ]
  },
  {
   "cell_type": "code",
   "execution_count": null,
   "id": "liXnk7A2cG2K",
   "metadata": {
    "id": "liXnk7A2cG2K"
   },
   "outputs": [],
   "source": [
    "%cd {work_dir}/src/lm\n",
    "!pwd"
   ]
  },
  {
   "cell_type": "markdown",
   "id": "474a87eb-df2f-43d5-b3a3-b1c0076ca7d9",
   "metadata": {
    "id": "474a87eb-df2f-43d5-b3a3-b1c0076ca7d9",
    "jp-MarkdownHeadingCollapsed": true
   },
   "source": [
    "## train rnn lm"
   ]
  },
  {
   "cell_type": "code",
   "execution_count": null,
   "id": "_05P1LxOmJCe",
   "metadata": {
    "id": "_05P1LxOmJCe"
   },
   "outputs": [],
   "source": [
    "# run src/lm/train_rnn.sh\n",
    "!sh train_rnn.sh \"cchyun-rnn-lm\""
   ]
  },
  {
   "cell_type": "markdown",
   "id": "tMB_z6saWoz2",
   "metadata": {
    "id": "tMB_z6saWoz2",
    "jp-MarkdownHeadingCollapsed": true
   },
   "source": [
    "## generate rnn lm"
   ]
  },
  {
   "cell_type": "code",
   "execution_count": null,
   "id": "rGaBz4EdWoz3",
   "metadata": {
    "id": "rGaBz4EdWoz3"
   },
   "outputs": [],
   "source": [
    "# run src/lm/generate_rnn.sh\n",
    "!sh generate_rnn.sh \"../../checkpoints/cchyun-rnn-lm-20240321-154420.pt\" \"지미카터\""
   ]
  },
  {
   "cell_type": "markdown",
   "id": "2PUCDkJ4b9ys",
   "metadata": {
    "id": "2PUCDkJ4b9ys",
    "jp-MarkdownHeadingCollapsed": true
   },
   "source": [
    "# 3.2 Seq to Seq"
   ]
  },
  {
   "cell_type": "code",
   "execution_count": null,
   "id": "KLssMTaJT4Xg",
   "metadata": {
    "id": "KLssMTaJT4Xg"
   },
   "outputs": [],
   "source": [
    "%cd {work_dir}/src/nmt\n",
    "!pwd"
   ]
  },
  {
   "cell_type": "markdown",
   "id": "H2McBvS_X1TE",
   "metadata": {
    "id": "H2McBvS_X1TE",
    "jp-MarkdownHeadingCollapsed": true
   },
   "source": [
    "## train seq2seq"
   ]
  },
  {
   "cell_type": "code",
   "execution_count": null,
   "id": "3M_pvVI-X1TE",
   "metadata": {
    "id": "3M_pvVI-X1TE"
   },
   "outputs": [],
   "source": [
    "# run src/nmt/train_seq2seq.sh\n",
    "!sh train_seq2seq.sh \"cchyun-rnn-nmt\""
   ]
  },
  {
   "cell_type": "markdown",
   "id": "ExuAioNUYIx9",
   "metadata": {
    "id": "ExuAioNUYIx9",
    "jp-MarkdownHeadingCollapsed": true
   },
   "source": [
    "## translate seq2seq"
   ]
  },
  {
   "cell_type": "code",
   "execution_count": null,
   "id": "kX5KKZlwYIx-",
   "metadata": {
    "id": "kX5KKZlwYIx-"
   },
   "outputs": [],
   "source": [
    "# run src/nmt/translate_seq2seq.sh\n",
    "!sh translate_seq2seq.sh \"../../checkpoints/cchyun-rnn-nmt-20240322-022551.pt\""
   ]
  },
  {
   "cell_type": "markdown",
   "id": "fc718c77",
   "metadata": {
    "id": "fc718c77",
    "jp-MarkdownHeadingCollapsed": true
   },
   "source": [
    "## infer seq2seq"
   ]
  },
  {
   "cell_type": "code",
   "execution_count": null,
   "id": "d96f330f",
   "metadata": {
    "id": "d96f330f"
   },
   "outputs": [],
   "source": [
    "from seq2seq import Seq2SeqTranslator"
   ]
  },
  {
   "cell_type": "code",
   "execution_count": null,
   "id": "c807cc11",
   "metadata": {
    "id": "c807cc11"
   },
   "outputs": [],
   "source": [
    "device = (\n",
    "    torch.device(\"cpu\")\n",
    ")\n",
    "\n",
    "model_fn = \"../../checkpoints/cchyun-rnn-nmt-20240322-022551.pt\"\n",
    "\n",
    "data = torch.load(model_fn, map_location=device)\n",
    "train_config = data[\"config\"]\n",
    "label2idx = data[\"label2idx\"]\n",
    "idx2label = data[\"idx2label\"]"
   ]
  },
  {
   "cell_type": "code",
   "execution_count": null,
   "id": "148f6a88",
   "metadata": {
    "id": "148f6a88"
   },
   "outputs": [],
   "source": [
    "tokenizer = T5TokenizerFast.from_pretrained(train_config.tokenizer)\n",
    "tokenizer.bos_token = \"<s>\""
   ]
  },
  {
   "cell_type": "code",
   "execution_count": null,
   "id": "650cd805",
   "metadata": {
    "id": "650cd805"
   },
   "outputs": [],
   "source": [
    "model = Seq2SeqTranslator(\n",
    "    vocab_size=tokenizer.vocab_size,\n",
    "    hidden_dim=train_config.hidden_dim,\n",
    "    n_layers=train_config.n_layers,\n",
    "    dropout=train_config.dropout,\n",
    "    pad_idx=tokenizer.pad_token_id,\n",
    ")\n",
    "model.load_state_dict(data[\"model\"])\n",
    "model.eval()\n",
    "model.to(device)"
   ]
  },
  {
   "cell_type": "code",
   "execution_count": null,
   "id": "7acbb7bb",
   "metadata": {
    "id": "7acbb7bb"
   },
   "outputs": [],
   "source": [
    "while True:\n",
    "    print(\"input> \", end=\"\")\n",
    "    line = str(input())\n",
    "    if len(line) == 0:\n",
    "        break\n",
    "\n",
    "    x = tokenizer(\n",
    "        line,\n",
    "        truncation=True,\n",
    "        max_length=train_config.max_length,\n",
    "        return_tensors=\"np\",\n",
    "    )[\"input_ids\"]\n",
    "\n",
    "    output_ids = model.generate(\n",
    "        list(x[0]), 50, tokenizer.bos_token_id, tokenizer.eos_token_id\n",
    "    )\n",
    "    result = tokenizer.decode(output_ids)\n",
    "\n",
    "    print(f\"- ko: {line}\\n- en: {result}\\n\")"
   ]
  },
  {
   "cell_type": "markdown",
   "id": "09356afd",
   "metadata": {
    "id": "09356afd",
    "jp-MarkdownHeadingCollapsed": true
   },
   "source": [
    "## train seq2seq attention"
   ]
  },
  {
   "cell_type": "code",
   "execution_count": null,
   "id": "fdc4fc4c",
   "metadata": {
    "id": "fdc4fc4c"
   },
   "outputs": [],
   "source": [
    "# run src/nmt/train_seq2seq_attention.sh\n",
    "!sh train_seq2seq_attention.sh \"cchyun-attn-nmt\""
   ]
  },
  {
   "cell_type": "markdown",
   "id": "67047962",
   "metadata": {
    "id": "67047962",
    "jp-MarkdownHeadingCollapsed": true
   },
   "source": [
    "## translate seq2seq attention"
   ]
  },
  {
   "cell_type": "code",
   "execution_count": null,
   "id": "c52aab21",
   "metadata": {
    "id": "c52aab21"
   },
   "outputs": [],
   "source": [
    "# run src/nmt/translate_seq2seq_attention.sh\n",
    "!sh translate_seq2seq_attention.sh \"../../checkpoints/cchyun-attn-nmt-20240322-053434.pt\""
   ]
  },
  {
   "cell_type": "markdown",
   "id": "65441a4e",
   "metadata": {
    "id": "65441a4e",
    "jp-MarkdownHeadingCollapsed": true
   },
   "source": [
    "## infer seq2seq attention"
   ]
  },
  {
   "cell_type": "code",
   "execution_count": null,
   "id": "7b582ce6",
   "metadata": {
    "id": "7b582ce6"
   },
   "outputs": [],
   "source": [
    "from seq2seq_attn import Seq2SeqAttention"
   ]
  },
  {
   "cell_type": "code",
   "execution_count": null,
   "id": "b5266194",
   "metadata": {
    "id": "b5266194"
   },
   "outputs": [],
   "source": [
    "device = (\n",
    "    torch.device(\"cpu\")\n",
    ")\n",
    "\n",
    "model_fn = \"../../checkpoints/cchyun-attn-nmt-20240322-053434.pt\"\n",
    "\n",
    "data = torch.load(model_fn, map_location=device)\n",
    "train_config = data[\"config\"]\n",
    "label2idx = data[\"label2idx\"]\n",
    "idx2label = data[\"idx2label\"]"
   ]
  },
  {
   "cell_type": "code",
   "execution_count": null,
   "id": "c4a98c80",
   "metadata": {
    "id": "c4a98c80"
   },
   "outputs": [],
   "source": [
    "tokenizer = T5TokenizerFast.from_pretrained(train_config.tokenizer)\n",
    "tokenizer.bos_token = \"<s>\""
   ]
  },
  {
   "cell_type": "code",
   "execution_count": null,
   "id": "606abbfc",
   "metadata": {
    "id": "606abbfc"
   },
   "outputs": [],
   "source": [
    "model = Seq2SeqAttention(\n",
    "    vocab_size=tokenizer.vocab_size,\n",
    "    hidden_dim=train_config.hidden_dim,\n",
    "    n_layers=train_config.n_layers,\n",
    "    dropout=train_config.dropout,\n",
    "    pad_idx=tokenizer.pad_token_id,\n",
    ")\n",
    "model.load_state_dict(data[\"model\"])\n",
    "model.eval()\n",
    "model.to(device)"
   ]
  },
  {
   "cell_type": "code",
   "execution_count": null,
   "id": "d72f5cc0",
   "metadata": {
    "id": "d72f5cc0"
   },
   "outputs": [],
   "source": [
    "while True:\n",
    "    print(\"input> \", end=\"\")\n",
    "    line = str(input())\n",
    "    if len(line) == 0:\n",
    "        break\n",
    "\n",
    "    x = tokenizer(\n",
    "        line,\n",
    "        truncation=True,\n",
    "        max_length=train_config.max_length,\n",
    "        return_tensors=\"np\",\n",
    "    )[\"input_ids\"]\n",
    "\n",
    "    output_ids = model.generate(\n",
    "        list(x[0]), 50, tokenizer.bos_token_id, tokenizer.eos_token_id\n",
    "    )\n",
    "    result = tokenizer.decode(output_ids)\n",
    "\n",
    "    print(f\"- ko: {line}\\n- en: {result}\\n\")"
   ]
  },
  {
   "cell_type": "markdown",
   "id": "ccd8fac1",
   "metadata": {
    "id": "ccd8fac1",
    "jp-MarkdownHeadingCollapsed": true
   },
   "source": [
    "# 3.3 Transformer"
   ]
  },
  {
   "cell_type": "code",
   "execution_count": null,
   "id": "e15ffc4d",
   "metadata": {
    "id": "e15ffc4d"
   },
   "outputs": [],
   "source": [
    "%cd {work_dir}/src/transformer\n",
    "!pwd"
   ]
  },
  {
   "cell_type": "markdown",
   "id": "d253e315",
   "metadata": {
    "id": "d253e315",
    "jp-MarkdownHeadingCollapsed": true
   },
   "source": [
    "## train t5 nmt"
   ]
  },
  {
   "cell_type": "code",
   "execution_count": null,
   "id": "d2e40d24",
   "metadata": {
    "id": "d2e40d24"
   },
   "outputs": [],
   "source": [
    "# run src/transformer/train_transformer.sh\n",
    "!sh train_transformer.sh \"cchyun-t5-nmt\""
   ]
  },
  {
   "cell_type": "markdown",
   "id": "1d843580",
   "metadata": {
    "id": "1d843580",
    "jp-MarkdownHeadingCollapsed": true
   },
   "source": [
    "## translate t5 nmt"
   ]
  },
  {
   "cell_type": "code",
   "execution_count": null,
   "id": "1934a312",
   "metadata": {
    "id": "1934a312"
   },
   "outputs": [],
   "source": [
    "# src/transformer/translate_transformer.sh\n",
    "!sh translate_transformer.sh \"../../checkpoints/cchyun-t5-nmt-20240322-114508/checkpoint-56330\""
   ]
  },
  {
   "cell_type": "markdown",
   "id": "6aa1a59a",
   "metadata": {
    "id": "6aa1a59a",
    "jp-MarkdownHeadingCollapsed": true
   },
   "source": [
    "## infer t5 nmt"
   ]
  },
  {
   "cell_type": "code",
   "execution_count": null,
   "id": "106b04cb",
   "metadata": {
    "id": "106b04cb"
   },
   "outputs": [],
   "source": [
    "from transformers import (\n",
    "    T5TokenizerFast,\n",
    "    GenerationConfig,\n",
    "    T5ForConditionalGeneration,\n",
    ")"
   ]
  },
  {
   "cell_type": "code",
   "execution_count": null,
   "id": "590023d8",
   "metadata": {
    "id": "590023d8"
   },
   "outputs": [],
   "source": [
    "device = (\n",
    "    torch.device(\"cpu\")\n",
    ")\n",
    "\n",
    "model_fn = \"../../checkpoints/cchyun-t5-nmt-20240322-114508/checkpoint-56330\"\n",
    "\n",
    "tokenizer = T5TokenizerFast.from_pretrained(model_fn)\n",
    "\n",
    "model = T5ForConditionalGeneration.from_pretrained(model_fn)\n",
    "model = model.to(device)\n",
    "model.eval()"
   ]
  },
  {
   "cell_type": "code",
   "execution_count": null,
   "id": "96b3e8ff",
   "metadata": {
    "id": "96b3e8ff"
   },
   "outputs": [],
   "source": [
    "generation_config = GenerationConfig(\n",
    "        max_new_tokens=512,\n",
    "        early_stopping=True,\n",
    "        do_sample=False,\n",
    "        num_beams=8,\n",
    "        use_cache=True,\n",
    "        pad_token_id=tokenizer.pad_token_id,\n",
    "        bos_token_id=tokenizer.bos_token_id,\n",
    "        eos_token_id=tokenizer.eos_token_id,\n",
    "        decoder_start_token_id=tokenizer.bos_token_id,\n",
    "        repetition_penalty=1.2,\n",
    "        length_penalty=1.0,\n",
    "    )"
   ]
  },
  {
   "cell_type": "code",
   "execution_count": null,
   "id": "9da85bc5",
   "metadata": {
    "id": "9da85bc5"
   },
   "outputs": [],
   "source": [
    "while True:\n",
    "    print(\"input> \", end=\"\")\n",
    "    line = str(input())\n",
    "    if len(line) == 0:\n",
    "        break\n",
    "\n",
    "    x = tokenizer(\n",
    "        line,\n",
    "        truncation=True,\n",
    "        max_length=512,\n",
    "        return_tensors=\"pt\",\n",
    "    )[\"input_ids\"].to(device)\n",
    "\n",
    "    beam_output = model.generate(\n",
    "        input_ids=x,\n",
    "        generation_config=generation_config,\n",
    "    )\n",
    "    result = tokenizer.decode(beam_output[0], skip_special_tokens=True)\n",
    "\n",
    "    print(f\"- ko: {line}\\n- en: {result}\\n\")"
   ]
  },
  {
   "cell_type": "code",
   "execution_count": null,
   "id": "8eccc927",
   "metadata": {
    "id": "8eccc927"
   },
   "outputs": [],
   "source": []
  }
 ],
 "metadata": {
  "accelerator": "GPU",
  "colab": {
   "collapsed_sections": [
    "u1t3ki7NxWt9",
    "8e1b6bc1-9d0b-4840-b82d-788da26fb467",
    "60aa673d",
    "b2f7c766-5bf7-444c-b0e1-b1e1e0ac7445",
    "474a87eb-df2f-43d5-b3a3-b1c0076ca7d9",
    "2PUCDkJ4b9ys",
    "ExuAioNUYIx9",
    "ccd8fac1"
   ],
   "gpuType": "T4",
   "provenance": []
  },
  "kernelspec": {
   "display_name": "Python 3 (ipykernel)",
   "language": "python",
   "name": "python3"
  },
  "language_info": {
   "codemirror_mode": {
    "name": "ipython",
    "version": 3
   },
   "file_extension": ".py",
   "mimetype": "text/x-python",
   "name": "python",
   "nbconvert_exporter": "python",
   "pygments_lexer": "ipython3",
   "version": "3.9.18"
  }
 },
 "nbformat": 4,
 "nbformat_minor": 5
}
