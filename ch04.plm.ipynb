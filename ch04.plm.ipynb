{
 "cells": [
  {
   "cell_type": "markdown",
   "metadata": {
    "id": "ZXDUnzIs1I63",
    "jp-MarkdownHeadingCollapsed": true
   },
   "source": [
    "# Env"
   ]
  },
  {
   "cell_type": "code",
   "execution_count": null,
   "metadata": {
    "id": "SkU5_q_f1I64"
   },
   "outputs": [],
   "source": [
    "import os\n",
    "import argparse\n",
    "import collections\n",
    "from datetime import datetime\n",
    "import re\n",
    "import json\n",
    "import pandas as pd\n",
    "import numpy as np\n",
    "\n",
    "from sklearn.model_selection import train_test_split\n",
    "\n",
    "import torch\n",
    "import torch.nn as nn\n",
    "import torch.nn.functional as F\n",
    "\n",
    "from tqdm.auto import tqdm\n",
    "from transformers import (\n",
    "    T5TokenizerFast,\n",
    "    AutoTokenizer\n",
    ")"
   ]
  },
  {
   "cell_type": "code",
   "execution_count": null,
   "metadata": {
    "id": "Wfu0mWoZ1I64"
   },
   "outputs": [],
   "source": [
    "# Gradient False\n",
    "torch.set_grad_enabled(True)\n",
    "# work dir\n",
    "work_dir = '/Users/cchyun/Workspace/nlp_ws/nlp-practice'"
   ]
  },
  {
   "cell_type": "code",
   "execution_count": null,
   "metadata": {
    "id": "NZpWfZwt1I64"
   },
   "outputs": [],
   "source": [
    "%cd {work_dir}\n",
    "!pwd"
   ]
  },
  {
   "cell_type": "markdown",
   "metadata": {
    "id": "QrMHq97L1I64",
    "jp-MarkdownHeadingCollapsed": true
   },
   "source": [
    "# 4.1 Bert TC"
   ]
  },
  {
   "cell_type": "code",
   "execution_count": null,
   "metadata": {
    "id": "evGv--lJ1I64"
   },
   "outputs": [],
   "source": [
    "%cd {work_dir}/src/bert-tc\n",
    "!pwd"
   ]
  },
  {
   "cell_type": "markdown",
   "metadata": {
    "id": "kj21wucI1I64",
    "jp-MarkdownHeadingCollapsed": true
   },
   "source": [
    "## train bert tc"
   ]
  },
  {
   "cell_type": "code",
   "execution_count": null,
   "metadata": {
    "id": "j6ewff0c1dUe"
   },
   "outputs": [],
   "source": [
    "!sh finetune_bert_tc.sh \"cchyun-bert-tc\""
   ]
  },
  {
   "cell_type": "markdown",
   "metadata": {
    "jp-MarkdownHeadingCollapsed": true
   },
   "source": [
    "## bert classify"
   ]
  },
  {
   "cell_type": "code",
   "execution_count": null,
   "metadata": {
    "id": "8PWfMyZS45_f"
   },
   "outputs": [],
   "source": [
    "# run src/tc/classify_rnn.sh\n",
    "!sh classify_bert.sh \"../../checkpoints/cchyun-bert-tc-20240323-103852/checkpoint-1052\""
   ]
  },
  {
   "cell_type": "markdown",
   "metadata": {
    "jp-MarkdownHeadingCollapsed": true
   },
   "source": [
    "## bert infer"
   ]
  },
  {
   "cell_type": "code",
   "execution_count": null,
   "metadata": {},
   "outputs": [],
   "source": [
    "from transformers import (\n",
    "    AutoModelForSequenceClassification,\n",
    "    AutoTokenizer,\n",
    ")"
   ]
  },
  {
   "cell_type": "code",
   "execution_count": null,
   "metadata": {},
   "outputs": [],
   "source": [
    "device = (\n",
    "    torch.device(\"cpu\")\n",
    ")\n",
    "\n",
    "model_fn = \"../../checkpoints/cchyun-bert-tc-20240323-103852/checkpoint-1052\"\n",
    "\n",
    "with open(os.path.join(model_fn, \"..\", \"config.json\")) as f:\n",
    "    data = json.loads(f.read())\n",
    "\n",
    "train_config = argparse.Namespace(**data[\"config\"])\n",
    "label2idx = data[\"label2idx\"]\n",
    "idx2label = {int(k): v for k, v in data[\"idx2label\"].items()}"
   ]
  },
  {
   "cell_type": "code",
   "execution_count": null,
   "metadata": {},
   "outputs": [],
   "source": [
    "model = AutoModelForSequenceClassification.from_pretrained(model_fn)\n",
    "tokenizer = AutoTokenizer.from_pretrained(model_fn)\n",
    "\n",
    "model.eval()\n",
    "model.to(device)"
   ]
  },
  {
   "cell_type": "code",
   "execution_count": null,
   "metadata": {},
   "outputs": [],
   "source": [
    "while True:\n",
    "    print(\"input> \", end=\"\")\n",
    "    line = str(input())\n",
    "    if len(line) == 0:\n",
    "        break\n",
    "\n",
    "    x = tokenizer(\n",
    "        line,\n",
    "        truncation=True,\n",
    "        max_length=train_config.max_length,\n",
    "        return_tensors=\"pt\",\n",
    "    ).to(device)\n",
    "\n",
    "    logit = model(**x).logits[0]\n",
    "    prob = F.softmax(logit, dim=-1)\n",
    "    # |prob| = (batch_size, output_dim)\n",
    "\n",
    "    y = prob.argmax(dim=-1)\n",
    "    # |y| = (batch_size,)\n",
    "\n",
    "    print(f\"{idx2label[y.item()]}\\t{prob[y].item():.4f}\\t{line}\")"
   ]
  },
  {
   "cell_type": "code",
   "execution_count": null,
   "metadata": {},
   "outputs": [],
   "source": []
  }
 ],
 "metadata": {
  "accelerator": "GPU",
  "colab": {
   "collapsed_sections": [
    "-O-h9ODl1I61",
    "ZXDUnzIs1I63",
    "QrMHq97L1I64",
    "kj21wucI1I64"
   ],
   "gpuType": "T4",
   "provenance": []
  },
  "kernelspec": {
   "display_name": "Python 3 (ipykernel)",
   "language": "python",
   "name": "python3"
  },
  "language_info": {
   "codemirror_mode": {
    "name": "ipython",
    "version": 3
   },
   "file_extension": ".py",
   "mimetype": "text/x-python",
   "name": "python",
   "nbconvert_exporter": "python",
   "pygments_lexer": "ipython3",
   "version": "3.9.18"
  }
 },
 "nbformat": 4,
 "nbformat_minor": 4
}
